{
  "cells": [
    {
      "cell_type": "markdown",
      "metadata": {
        "id": "view-in-github",
        "colab_type": "text"
      },
      "source": [
        "<a href=\"https://colab.research.google.com/github/HibaAyadi/Expense-Tracker/blob/main/Ayadi_Hiba_G1.ipynb\" target=\"_parent\"><img src=\"https://colab.research.google.com/assets/colab-badge.svg\" alt=\"Open In Colab\"/></a>"
      ]
    },
    {
      "cell_type": "markdown",
      "metadata": {
        "id": "5G3owQ4R_Llb"
      },
      "source": [
        " # S&P 5OO Financial data time serie modeling\n"
      ]
    },
    {
      "cell_type": "markdown",
      "metadata": {
        "id": "Z66wfIRE_Lld"
      },
      "source": [
        "# 1- Abstract:\n",
        "\n",
        "This project presents the steps involved in modeling the S&P 500 data, beginning with an exploration of its trends, seasonality, and distribution. The analysis reveals a dominant trend with minimal seasonality, guiding the choice of an appropriate modeling approach. After applying differencing to uncover hidden patterns beneath the strong trend, several model candidates were evaluated. Ultimately, ARIMA(0,2,1) was selected as it captured most of the variance, leaving white noise residuals. However, this simple model showed limitations in forecasting  and failed to account for data fluctuations. Subsequent trials with more complex models yielded poorer results, leading to the conclusion that ARIMA modeling may not be the best for this financial data. Given the volatility of financial markets, alternative models like GARCH may be more appropriate for capturing the inherent volatility and nature of the data."
      ]
    },
    {
      "cell_type": "markdown",
      "metadata": {
        "id": "dx1BcL7P_Lld"
      },
      "source": [
        "# 2- Introduction:\n",
        "\n",
        "\n",
        "The S&P 500 is a vital benchmark for the U.S. stock market, representing the collective performance of 500 major publicly traded companies. In this study, we focus on the monthly closing prices of the SPY ETF, an exchange-traded fund . This dataset, consisting of real world, univariate, and continuous data, is ideal for time series analysis due to its robust size 12 observations per year(monthly sampling frequency), amounting to over 60 data points, which allows for meaningful statistical modeling.\n",
        "\n",
        "Understanding long-term market trends is important for many people, including investors, policymakers, and financial analysts. While daily market changes get the most attention, looking at monthly data gives a better view of overall economic trends. This helps in making smarter investment choices, managing risks, and predicting future market movements. By analyzing trends, seasonality, and hidden patterns, we can better understand how the market behaves.\n",
        "\n",
        "This project focuses on  building time series models in order to  is to improve our ability to predict future market trends and support better financial decisions."
      ]
    },
    {
      "cell_type": "markdown",
      "metadata": {
        "id": "fAHru5c3_Lld"
      },
      "source": [
        "# 3- Model specification."
      ]
    },
    {
      "cell_type": "markdown",
      "metadata": {
        "id": "vM0FzyTs_Lle"
      },
      "source": [
        ">>1-installing the necessary packges"
      ]
    },
    {
      "cell_type": "code",
      "execution_count": null,
      "metadata": {
        "colab": {
          "base_uri": "https://localhost:8080/"
        },
        "id": "fUAcS_Mr_Lle",
        "outputId": "ac71608b-e8c5-4526-94e8-640dc0cbaa1f",
        "vscode": {
          "languageId": "r"
        }
      },
      "outputs": [
        {
          "name": "stderr",
          "output_type": "stream",
          "text": [
            "Installing package into 'C:/Users/ayadi/AppData/Local/R/win-library/4.4'\n",
            "(as 'lib' is unspecified)\n",
            "\n"
          ]
        },
        {
          "name": "stdout",
          "output_type": "stream",
          "text": [
            "package 'quantmod' successfully unpacked and MD5 sums checked\n",
            "\n",
            "The downloaded binary packages are in\n",
            "\tC:\\Users\\ayadi\\AppData\\Local\\Temp\\RtmpGWoyBo\\downloaded_packages\n"
          ]
        },
        {
          "name": "stderr",
          "output_type": "stream",
          "text": [
            "Installing package into 'C:/Users/ayadi/AppData/Local/R/win-library/4.4'\n",
            "(as 'lib' is unspecified)\n",
            "\n"
          ]
        },
        {
          "name": "stdout",
          "output_type": "stream",
          "text": [
            "package 'TSA' successfully unpacked and MD5 sums checked\n",
            "\n",
            "The downloaded binary packages are in\n",
            "\tC:\\Users\\ayadi\\AppData\\Local\\Temp\\RtmpGWoyBo\\downloaded_packages\n"
          ]
        },
        {
          "name": "stderr",
          "output_type": "stream",
          "text": [
            "Installing package into 'C:/Users/ayadi/AppData/Local/R/win-library/4.4'\n",
            "(as 'lib' is unspecified)\n",
            "\n"
          ]
        },
        {
          "name": "stdout",
          "output_type": "stream",
          "text": [
            "package 'car' successfully unpacked and MD5 sums checked\n",
            "\n",
            "The downloaded binary packages are in\n",
            "\tC:\\Users\\ayadi\\AppData\\Local\\Temp\\RtmpGWoyBo\\downloaded_packages\n"
          ]
        }
      ],
      "source": [
        "install.packages(\"quantmod\")\n",
        "install.packages(\"TSA\")\n",
        "install.packages(\"car\")"
      ]
    },
    {
      "cell_type": "markdown",
      "metadata": {
        "id": "LabkXFRG_Llf"
      },
      "source": [
        ">>2-Loading Data from Yahoo Finance"
      ]
    },
    {
      "cell_type": "markdown",
      "metadata": {
        "id": "eYMkDdyKU3lw"
      },
      "source": [
        "**Note**: This script downloads historical monthly closing prices of the SPY ETF (which tracks the S&P 500) from Yahoo Finance for independent time series analysis. Please ensure that the internet is available so the data can be loaded if you need to rerun the code."
      ]
    },
    {
      "cell_type": "code",
      "execution_count": null,
      "metadata": {
        "id": "uDYvldxs_Llf",
        "vscode": {
          "languageId": "r"
        },
        "outputId": "12ea109d-4f38-42dc-e22d-580b5c15110c"
      },
      "outputs": [
        {
          "name": "stderr",
          "output_type": "stream",
          "text": [
            "Warning message:\n",
            "\"package 'quantmod' was built under R version 4.4.3\"\n",
            "Loading required package: xts\n",
            "\n",
            "Loading required package: zoo\n",
            "\n",
            "\n",
            "Attaching package: 'zoo'\n",
            "\n",
            "\n",
            "The following objects are masked from 'package:base':\n",
            "\n",
            "    as.Date, as.Date.numeric\n",
            "\n",
            "\n",
            "Loading required package: TTR\n",
            "\n",
            "Registered S3 method overwritten by 'quantmod':\n",
            "  method            from\n",
            "  as.zoo.data.frame zoo \n",
            "\n"
          ]
        },
        {
          "data": {
            "text/html": [
              "'SPY'"
            ],
            "text/latex": [
              "'SPY'"
            ],
            "text/markdown": [
              "'SPY'"
            ],
            "text/plain": [
              "[1] \"SPY\""
            ]
          },
          "metadata": {},
          "output_type": "display_data"
        },
        {
          "data": {
            "text/plain": [
              "           SPY.Open SPY.High SPY.Low SPY.Close SPY.Volume SPY.Adjusted\n",
              "2011-01-01   126.71   130.35  125.70    128.68 2860314700     99.29708\n",
              "2011-02-01   129.46   134.69  129.38    133.15 2820073500    102.74645\n",
              "2011-03-01   133.57   133.69  125.28    132.59 4787459400    102.31429\n",
              "2011-04-01   133.41   136.57  129.51    136.43 2812718500    105.73483\n",
              "2011-05-01   137.07   137.18  131.38    134.90 3337607300    104.54904\n",
              "2011-06-01   134.51   134.92  126.19    131.97 4710433400    102.27829"
            ]
          },
          "metadata": {},
          "output_type": "display_data"
        }
      ],
      "source": [
        "\n",
        "library(quantmod)\n",
        "\n",
        "\n",
        "getSymbols(\"SPY\", from = \"2011-01-01\", to = \"2015-12-31\", src = \"yahoo\", periodicity = \"monthly\")\n",
        "\n",
        "\n",
        "\n",
        "head(SPY)\n"
      ]
    },
    {
      "cell_type": "markdown",
      "metadata": {
        "id": "ilaINrqI_Llg"
      },
      "source": [
        "We have chosen closing prices to keep the dataset univariate and avoid unnecessary noise. Closing prices are the most analyzed metric in finance, reflecting market at the end of each period and providing a stable basis for time series modeling.\n",
        "\n",
        "\n",
        "\n"
      ]
    },
    {
      "cell_type": "markdown",
      "metadata": {
        "id": "47fCYcitVVQP"
      },
      "source": [
        "- Next we will plot our data in order to analyse its behavior"
      ]
    },
    {
      "cell_type": "code",
      "execution_count": null,
      "metadata": {
        "colab": {
          "base_uri": "https://localhost:8080/",
          "height": 437
        },
        "id": "Ad5UGOhH_Llg",
        "outputId": "7e11bb27-474e-46c0-b549-8d6435aa99d3",
        "vscode": {
          "languageId": "r"
        }
      },
      "outputs": [
        {
          "data": {
            "image/png": "[encoded data removed]",
            "text/plain": [
              "Plot with title \"Monthly Closing Prices of S&P 500 (SPY ETF)\""
            ]
          },
          "metadata": {
            "image/png": {
              "height": 420,
              "width": 420
            }
          },
          "output_type": "display_data"
        }
      ],
      "source": [
        "\n",
        "closing_price <- Cl(SPY)\n",
        "\n",
        "\n",
        "par(bg = \"white\")\n",
        "\n",
        "plot(index(closing_price), closing_price, type = \"l\", col = \"blue\",\n",
        "     xlab = \"Date\", ylab = \"Closing Price\",\n",
        "     main = \"Monthly Closing Prices of S&P 500 (SPY ETF)\",\n",
        "     col.main = \"black\",\n",
        "     col.lab = \"black\",\n",
        "     col.axis = \"black\",\n",
        "     panel.first = grid())\n"
      ]
    },
    {
      "cell_type": "code",
      "execution_count": null,
      "metadata": {
        "id": "BlJYtkHk_Llg",
        "outputId": "2fdc971b-4c4b-40fd-a2ef-4611180b5a57",
        "vscode": {
          "languageId": "r"
        }
      },
      "outputs": [
        {
          "data": {
            "text/html": [
              "0"
            ],
            "text/latex": [
              "0"
            ],
            "text/markdown": [
              "0"
            ],
            "text/plain": [
              "[1] 0"
            ]
          },
          "metadata": {},
          "output_type": "display_data"
        }
      ],
      "source": [
        "\n",
        "sum(is.na(closing_price))\n"
      ]
    },
    {
      "cell_type": "markdown",
      "metadata": {
        "id": "1XtXyQjI_Llg"
      },
      "source": [
        "Initial data interpretation :\n",
        "This time series displays a general upward trend over time,\n",
        "reflecting the growth in the S&P 500 index. However,\n",
        "it also exhibits fluctuations that could be attributed\n",
        "to market volatility. While no clear seasonality is immediately\n",
        "apparent, periodic peaks  suggest the presence of cyclical\n",
        "patterns influenced by economic or market conditions. Further analysis\n",
        "is required to confirm any recurring patterns or trends."
      ]
    },
    {
      "cell_type": "markdown",
      "metadata": {
        "id": "B7hBNSi3_Llg"
      },
      "source": [
        ">>***Assumptions***\n",
        "\n",
        ">>1-trend existence :we remark that our  data increases over time, from which  we assume that , the mean is changing, and it is not stationary in the mean which implies that the time serie is not stationary . The growth appears to be accelerating over time, suggesting possible exponential growth rather than a simple linear trend.\n",
        "\n",
        ">>2-Periods of volatility: Around 2011, there is a sharp drop followed by a rapid recovery, likely due to major economic events .\n",
        "\n",
        ">>3-Seasonality unclear: No obvious repeating seasonal pattern at first glance, but further decomposition is needed to confirm.\n",
        "\n",
        ">>4-stationarity : The presence of a strong upward trend and possible seasonality suggests significant non-stationarity and need to be confirm more using statistical methods .\n",
        "\n",
        ">>5 - Outliers: We observed a sudden drop in the closing price in late 2011. Upon investigation, we found that the S&P 500 drop (2011–2012) likely corresponds to the U.S. debt ceiling crisis of 2011. During this period, Standard & Poor’s downgraded the U.S. credit rating, leading to significant market volatility."
      ]
    },
    {
      "cell_type": "markdown",
      "metadata": {
        "id": "ERPh1-1J_Llh"
      },
      "source": [
        ">> In this step we will decompose our chart for futher data analysis"
      ]
    },
    {
      "cell_type": "code",
      "execution_count": null,
      "metadata": {
        "colab": {
          "base_uri": "https://localhost:8080/",
          "height": 686
        },
        "id": "VHIa0Ud7_Llh",
        "outputId": "a95073f9-8826-41fd-a170-53cc6b8bece3",
        "vscode": {
          "languageId": "r"
        }
      },
      "outputs": [
        {
          "name": "stderr",
          "output_type": "stream",
          "text": [
            "Warning message:\n",
            "\"package 'TSA' was built under R version 4.4.3\"\n",
            "\n",
            "Attaching package: 'TSA'\n",
            "\n",
            "\n",
            "The following objects are masked from 'package:stats':\n",
            "\n",
            "    acf, arima\n",
            "\n",
            "\n",
            "The following object is masked from 'package:utils':\n",
            "\n",
            "    tar\n",
            "\n",
            "\n"
          ]
        },
        {
          "data": {
            "image/png": "[encoded data removed]",
            "text/plain": [
              "plot without title"
            ]
          },
          "metadata": {
            "image/png": {
              "height": 420,
              "width": 420
            }
          },
          "output_type": "display_data"
        }
      ],
      "source": [
        "\n",
        "library(TSA)\n",
        "\n",
        "sp500_ts <- ts(closing_price, frequency = 12)\n",
        "\n",
        "decomposed <- decompose(sp500_ts, type = \"multiplicative\")\n",
        "\n",
        "par(bg = \"white\")\n",
        "plot(decomposed)\n"
      ]
    },
    {
      "cell_type": "markdown",
      "metadata": {
        "id": "VBoXEIcr_Llh"
      },
      "source": [
        ">>Chart interpretation: The decomposition chart shows that the trend dominates, capturing most of the data variance, while seasonality is present but at a very small interval (0.97 to 1.01), indicating weak seasonality. As for the randomness, the data is not truly a white noise , suggesting that there are still interesting patterns present. Therefore, we suggest that simple linear or polynomial approaches may not fully capture the complexities of our data.\n",
        "\n",
        ">>These results are justifiable, as sales and economic data typically exhibit increasing trends along with some volatility, influenced by external factors such as market dynamics, economic cycles, and unexpected events like financial crises or global disruptions."
      ]
    },
    {
      "cell_type": "markdown",
      "metadata": {
        "id": "JgSY-zRC_Lli"
      },
      "source": [
        "- Since seasonality plays a significant role in the modeling phase , we should consider statistical tests for seasonality to confirm whether we should account for the seasonality presence  and determine if it is truly negligible and will not affect our next steps.\n",
        "\n",
        "- To do that, we will perform the Kruskal-Wallis rank sum test, which helps determine whether there are significant differences in the median values across different time periods . If the test detects significant differences, it suggests the presence of seasonality in the data."
      ]
    },
    {
      "cell_type": "code",
      "execution_count": null,
      "metadata": {
        "id": "77iRpOOS_Lli",
        "outputId": "f81f3de8-5196-4216-82bf-573cd703b0e7",
        "vscode": {
          "languageId": "r"
        }
      },
      "outputs": [
        {
          "data": {
            "text/plain": [
              "\n",
              "\tKruskal-Wallis rank sum test\n",
              "\n",
              "data:  closing_price_numeric by months\n",
              "Kruskal-Wallis chi-squared = 1.2213, df = 11, p-value = 0.9999\n"
            ]
          },
          "metadata": {},
          "output_type": "display_data"
        }
      ],
      "source": [
        "library(quantmod)\n",
        "\n",
        "closing_price_numeric <- as.numeric(closing_price)\n",
        "\n",
        "months <- factor(format(index(closing_price), \"%m\"))\n",
        "\n",
        "kruskal.test(closing_price_numeric ~ months)\n"
      ]
    },
    {
      "cell_type": "markdown",
      "metadata": {
        "id": "PPcu-SK2_Lli"
      },
      "source": [
        ">>Seasonality Test Interpretation:\n",
        "\n",
        "The Krustal wallis rank sum test with  p-value = 0.9999, which is much greater than 0.05, fails to reject the null hypothesis, meaning there is no significant seasonal effect in the data.which confirm our remarks from the decomposition chart on how the range of seasonality is not significant .\n",
        "\n",
        "-Additionally, later on we will use the ACF plot to further confirm seasonal patterns before proceeding with model selection.\n"
      ]
    },
    {
      "cell_type": "markdown",
      "metadata": {
        "id": "5bOzbA6X_Llj"
      },
      "source": [
        ">> 3-Check for non-constant variance: We test for heteroscedasticity"
      ]
    },
    {
      "cell_type": "markdown",
      "metadata": {
        "id": "NVJ36PuHiI8w"
      },
      "source": [
        "Addressing non-constant variance is an essential step and must be done before proceeding with processing steps such as using differencing to achieve stationarity.\n",
        "\n",
        "To test for heteroscedasticity, we use Levene’s test as well as the Box-Cox transformation to confirm the results."
      ]
    },
    {
      "cell_type": "code",
      "execution_count": null,
      "metadata": {
        "colab": {
          "base_uri": "https://localhost:8080/",
          "height": 108
        },
        "id": "mFMBgaDSad1J",
        "outputId": "7b155c45-eec4-481f-e625-c3d173817c38",
        "vscode": {
          "languageId": "r"
        }
      },
      "outputs": [
        {
          "name": "stderr",
          "output_type": "stream",
          "text": [
            "Warning message in leveneTest.default(y = y, group = group, ...):\n",
            "\"group coerced to factor.\"\n"
          ]
        },
        {
          "data": {
            "text/html": [
              "<table class=\"dataframe\">\n",
              "<caption>A anova: 2 × 3</caption>\n",
              "<thead>\n",
              "\t<tr><th></th><th scope=col>Df</th><th scope=col>F value</th><th scope=col>Pr(&gt;F)</th></tr>\n",
              "\t<tr><th></th><th scope=col>&lt;int&gt;</th><th scope=col>&lt;dbl&gt;</th><th scope=col>&lt;dbl&gt;</th></tr>\n",
              "</thead>\n",
              "<tbody>\n",
              "\t<tr><th scope=row>group</th><td> 1</td><td>1.029183</td><td>0.3145641</td></tr>\n",
              "\t<tr><th scope=row> </th><td>58</td><td>      NA</td><td>       NA</td></tr>\n",
              "</tbody>\n",
              "</table>\n"
            ],
            "text/latex": [
              "A anova: 2 × 3\n",
              "\\begin{tabular}{r|lll}\n",
              "  & Df & F value & Pr(>F)\\\\\n",
              "  & <int> & <dbl> & <dbl>\\\\\n",
              "\\hline\n",
              "\tgroup &  1 & 1.029183 & 0.3145641\\\\\n",
              "\t  & 58 &       NA &        NA\\\\\n",
              "\\end{tabular}\n"
            ],
            "text/markdown": [
              "\n",
              "A anova: 2 × 3\n",
              "\n",
              "| <!--/--> | Df &lt;int&gt; | F value &lt;dbl&gt; | Pr(&gt;F) &lt;dbl&gt; |\n",
              "|---|---|---|---|\n",
              "| group |  1 | 1.029183 | 0.3145641 |\n",
              "| <!----> | 58 |       NA |        NA |\n",
              "\n"
            ],
            "text/plain": [
              "      Df F value  Pr(>F)   \n",
              "group  1 1.029183 0.3145641\n",
              "      58       NA        NA"
            ]
          },
          "metadata": {},
          "output_type": "display_data"
        }
      ],
      "source": [
        "library(car)\n",
        "\n",
        "\n",
        "closing_price_df <- data.frame(\n",
        "  closing_price = as.numeric(closing_price),\n",
        "  time_index = as.numeric(index(closing_price))\n",
        ")\n",
        "\n",
        "closing_price_df$group <- ifelse(closing_price_df$time_index < median(closing_price_df$time_index),\n",
        "                                 \"First Half\", \"Second Half\")\n",
        "\n",
        "leveneTest(closing_price ~ group, data = closing_price_df)\n"
      ]
    },
    {
      "cell_type": "markdown",
      "metadata": {
        "id": "YBmZJviliI8w"
      },
      "source": [
        "- Since the p-value (0.3146) is greater than 0.05, this test fails to reject the null hypothesis, meaning there is no significant difference in variance. This supports the assumption of homoscedasticity in our data."
      ]
    },
    {
      "cell_type": "markdown",
      "metadata": {
        "id": "gZ_V895_iI8w"
      },
      "source": [
        "-In this step we will confirm the levene's test results by using the BOX-COX transformation"
      ]
    },
    {
      "cell_type": "code",
      "execution_count": null,
      "metadata": {
        "id": "mawDiLpo_Llj",
        "outputId": "1d3b6b28-7db9-47aa-c850-0db9b54245d5",
        "vscode": {
          "languageId": "r"
        }
      },
      "outputs": [
        {
          "name": "stdout",
          "output_type": "stream",
          "text": [
            "[1] 0.7878788\n"
          ]
        },
        {
          "data": {
            "image/png": "[encoded data removed]",
            "text/plain": [
              "plot without title"
            ]
          },
          "metadata": {
            "image/png": {
              "height": 420,
              "width": 420
            }
          },
          "output_type": "display_data"
        }
      ],
      "source": [
        "\n",
        "library(MASS)\n",
        "par(bg = \"white\")\n",
        "\n",
        "closing_price <- as.numeric(closing_price)\n",
        "your_data <- data.frame(closing_price = closing_price, time_index = index(closing_price))\n",
        "\n",
        "lm_model <- lm(closing_price ~ time_index, data = your_data)\n",
        "\n",
        "boxcox_model <- boxcox(lm_model, lambda = seq(-2, 2, 0.1))\n",
        "par(bg = \"white\")\n",
        "\n",
        "optimal_lambda <- boxcox_model$x[which.max(boxcox_model$y)]\n",
        "print(optimal_lambda)\n"
      ]
    },
    {
      "cell_type": "markdown",
      "metadata": {
        "id": "tg4MJeQQ_Llj"
      },
      "source": [
        "The optimal λ = 0.7878788 (λ ≈ 1) from the Box-Cox transformation suggests that no transformation is needed, confirming Levene's test results. This justifies that while there is some variance instability (due to crises like the U.S. debt ceiling ), the data does not require an extreme transformation. The variance appears to stabilize naturally after these crises .\n"
      ]
    },
    {
      "cell_type": "markdown",
      "metadata": {
        "id": "e1jZzJnH_Llj"
      },
      "source": [
        " After analyzing the raw data chart for trends and seasonality, we proceed with statistical methods by plotting the ACF and PACF to check for stationarity."
      ]
    },
    {
      "cell_type": "code",
      "execution_count": null,
      "metadata": {
        "id": "94L0Z4s8_Llj",
        "outputId": "2d4284c2-fada-4090-a212-b586d90ae1fe",
        "vscode": {
          "languageId": "r"
        }
      },
      "outputs": [
        {
          "data": {
            "image/png": "[encoded data removed]",
            "text/plain": [
              "Plot with title \"ACF of S&P 500\""
            ]
          },
          "metadata": {
            "image/png": {
              "height": 420,
              "width": 420
            }
          },
          "output_type": "display_data"
        },
        {
          "data": {
            "image/png": "[encoded data removed]",
            "text/plain": [
              "Plot with title \"PACF of S&P 500\""
            ]
          },
          "metadata": {
            "image/png": {
              "height": 420,
              "width": 420
            }
          },
          "output_type": "display_data"
        }
      ],
      "source": [
        "library(TSA)\n",
        "sp500_ts <- ts(closing_price, frequency = 12)\n",
        "\n",
        "par(bg = \"white\")\n",
        "\n",
        "acf(sp500_ts, lag.max = 24, main=\"ACF of S&P 500\", xlab=\"Lag (Months)\", xaxt = \"n\")\n",
        "\n",
        "axis(1, at=seq(0, 24, by=6), labels=seq(0, 24, by=6))\n",
        "\n",
        "pacf(sp500_ts, lag.max = 24, main=\"PACF of S&P 500\", xlab=\"Lag (Months)\", xaxt = \"n\")\n",
        "\n",
        "axis(1, at=seq(0, 24, by=6), labels=seq(0, 24, by=6))\n"
      ]
    },
    {
      "cell_type": "markdown",
      "metadata": {
        "id": "_a4M_e7D_Llj"
      },
      "source": [
        ">>Chart Interpretation:\n",
        "The ACF does not show strong evidence of seasonality over a 24-month period, as there are no repeating spikes at 12-month intervals. Instead, it exhibits a slow decay, which is a strong indicator of non-stationarity. Additionally, a large number of spikes fall outside the confidence interval, suggesting significant correlation in the data and indicates that differencing may be needed. The PACF shows a strong initial spike followed by a sharp cutoff, which suggests a strong trend component and possible autoregressive (AR) behavior.\n",
        "\n",
        "\n",
        ">> These patterns align with the nature of financial market data, where long-term trends and persistent correlations are common due to multipl factors investor behavior. The absence of a clear seasonal pattern is expected, as monthly stock market data is more influenced by broader economic trends rather than strict seasonal cycles."
      ]
    },
    {
      "cell_type": "markdown",
      "metadata": {
        "id": "qrq5H9Nn_Llj"
      },
      "source": [
        ">>To Strengthen our assumption about nonstationarity we will perform the Augmented Dickey-Fuller (ADF) test with null hypothesis:\" (non stationarity)\"\n",
        "if p_value >0,05 we accept"
      ]
    },
    {
      "cell_type": "code",
      "execution_count": null,
      "metadata": {
        "id": "c79mfQ6q_Llk",
        "outputId": "5a041afa-3a6f-4c9b-b3da-379edd04ab8d",
        "vscode": {
          "languageId": "r"
        }
      },
      "outputs": [
        {
          "name": "stderr",
          "output_type": "stream",
          "text": [
            "Warning message:\n",
            "\"package 'tseries' was built under R version 4.4.3\"\n"
          ]
        },
        {
          "name": "stdout",
          "output_type": "stream",
          "text": [
            "\n",
            "\tAugmented Dickey-Fuller Test\n",
            "\n",
            "data:  closing_price\n",
            "Dickey-Fuller = -2.6812, Lag order = 3, p-value = 0.2994\n",
            "alternative hypothesis: stationary\n",
            "\n"
          ]
        }
      ],
      "source": [
        "library(tseries)\n",
        "\n",
        "\n",
        "adf_test <- adf.test(closing_price)\n",
        "\n",
        "print(adf_test)"
      ]
    },
    {
      "cell_type": "markdown",
      "metadata": {
        "id": "8iwlPBYW_Llk"
      },
      "source": [
        ">>Clearly the p-value = 0.2994 >0.05 means we accept the hypothesis thus our time serie is not stationary ."
      ]
    },
    {
      "cell_type": "markdown",
      "metadata": {
        "id": "kRaWCkco_Llk"
      },
      "source": [
        ">>  Our next step is to investigate the trend further to determine whether it is deterministic or stochastic. To do this, we will perform deterministic trend modeling ."
      ]
    },
    {
      "cell_type": "markdown",
      "metadata": {
        "id": "1s9y8sRG_Llk"
      },
      "source": [
        ">>***a-Deterministic trend modeling***\n",
        "\n",
        "\n"
      ]
    },
    {
      "cell_type": "markdown",
      "metadata": {
        "id": "5xCUc6Bu_Llk"
      },
      "source": [
        "Based on domain knowledge, financial data often shows strong regression trends. To explore this, we will fit the first three orders of regression and analyze the trend."
      ]
    },
    {
      "cell_type": "markdown",
      "metadata": {
        "id": "OCwkQSiJ_Llk"
      },
      "source": [
        ">>1. Linear Model"
      ]
    },
    {
      "cell_type": "code",
      "execution_count": null,
      "metadata": {
        "colab": {
          "base_uri": "https://localhost:8080/",
          "height": 757
        },
        "id": "XYxxU6Gb_Llk",
        "outputId": "c3fc4987-4f73-40cf-c5f2-27afac0bda22",
        "vscode": {
          "languageId": "r"
        }
      },
      "outputs": [
        {
          "data": {
            "text/plain": [
              "\n",
              "Call:\n",
              "lm(formula = closing_price ~ time(closing_price))\n",
              "\n",
              "Residuals:\n",
              "     Min       1Q   Median       3Q      Max \n",
              "-20.1894  -6.7118   0.1408   6.8889  15.5620 \n",
              "\n",
              "Coefficients:\n",
              "                      Estimate Std. Error t value Pr(>|t|)    \n",
              "(Intercept)         -7.276e+02  3.419e+01  -21.28   <2e-16 ***\n",
              "time(closing_price)  5.633e-02  2.153e-03   26.16   <2e-16 ***\n",
              "---\n",
              "Signif. codes:  0 '***' 0.001 '**' 0.01 '*' 0.05 '.' 0.1 ' ' 1\n",
              "\n",
              "Residual standard error: 8.79 on 58 degrees of freedom\n",
              "Multiple R-squared:  0.9219,\tAdjusted R-squared:  0.9205 \n",
              "F-statistic: 684.4 on 1 and 58 DF,  p-value: < 2.2e-16\n"
            ]
          },
          "metadata": {},
          "output_type": "display_data"
        }
      ],
      "source": [
        "\n",
        "model_linear <- lm(closing_price ~ time(closing_price))\n",
        "summary(model_linear)"
      ]
    },
    {
      "cell_type": "markdown",
      "metadata": {
        "id": "TY0j7Rew_Llk"
      },
      "source": [
        "Linear Model Interpretation:\n",
        "\n",
        "- Y=−727.6+0.05633×X\n",
        "\n",
        "- Both coefficients are statistically significant, as their p-values are < 2.2e-16, indicating a strong relationship between time and closing price.Furthermore the R-squared value (0.922) suggests that the model explains 92.2% of the variance in closing prices, meaning time is a strong predictor.\n",
        "\n",
        "- while the slope (0.05633) indicates that, on average, the closing price increases by 0.05633 units per month (likely months).The intercept (-727.6) does not indicate a real-world meaning because time is not centered at 0 in our financial data. Which means this model still shows a strong upward trend as the closing price increases over time.\n",
        "\n"
      ]
    },
    {
      "cell_type": "markdown",
      "metadata": {
        "id": "N_C5fHryiI81"
      },
      "source": [
        ">>Now we will study the residuals of this linear model"
      ]
    },
    {
      "cell_type": "code",
      "execution_count": null,
      "metadata": {
        "id": "MalpKjCF_Lll",
        "outputId": "8800a8a6-a766-466b-f0b3-58ac474505bd",
        "vscode": {
          "languageId": "r"
        }
      },
      "outputs": [
        {
          "name": "stdout",
          "output_type": "stream",
          "text": [
            "\n",
            "\tRuns Test\n",
            "\n",
            "data:  factor(binary_residuals)\n",
            "Standard Normal = -5.4687, p-value = 4.533e-08\n",
            "alternative hypothesis: two.sided\n",
            "\n"
          ]
        },
        {
          "data": {
            "image/png": "[encoded data removed]",
            "text/plain": [
              "Plot with title \"Histogram of Standardized Residuals\""
            ]
          },
          "metadata": {
            "image/png": {
              "height": 420,
              "width": 420
            }
          },
          "output_type": "display_data"
        },
        {
          "data": {
            "text/plain": [
              "\n",
              "\tShapiro-Wilk normality test\n",
              "\n",
              "data:  std_residuals\n",
              "W = 0.97478, p-value = 0.2484\n"
            ]
          },
          "metadata": {},
          "output_type": "display_data"
        },
        {
          "data": {
            "text/plain": [
              "\n",
              "\tOne Sample t-test\n",
              "\n",
              "data:  std_residuals\n",
              "t = -6.1079e-16, df = 59, p-value = 1\n",
              "alternative hypothesis: true mean is not equal to 0\n",
              "95 percent confidence interval:\n",
              " -0.2583274  0.2583274\n",
              "sample estimates:\n",
              "    mean of x \n",
              "-7.885222e-17 \n"
            ]
          },
          "metadata": {},
          "output_type": "display_data"
        },
        {
          "data": {
            "image/png": "[encoded data removed]",
            "text/plain": [
              "Plot with title \"Normal Q-Q Plot\""
            ]
          },
          "metadata": {
            "image/png": {
              "height": 420,
              "width": 420
            }
          },
          "output_type": "display_data"
        },
        {
          "data": {
            "image/png": "[encoded data removed]",
            "text/plain": [
              "Plot with title \"Standardized Residuals vs Time\""
            ]
          },
          "metadata": {
            "image/png": {
              "height": 420,
              "width": 420
            }
          },
          "output_type": "display_data"
        },
        {
          "data": {
            "image/png": "[encoded data removed]",
            "text/plain": [
              "Plot with title \"ACF of Standardized Residuals\""
            ]
          },
          "metadata": {
            "image/png": {
              "height": 420,
              "width": 420
            }
          },
          "output_type": "display_data"
        },
        {
          "data": {
            "image/png": "[encoded data removed]",
            "text/plain": [
              "plot without title"
            ]
          },
          "metadata": {
            "image/png": {
              "height": 420,
              "width": 420
            }
          },
          "output_type": "display_data"
        }
      ],
      "source": [
        "\n",
        "library(tseries)\n",
        "residuals <- residuals(model_linear)\n",
        "std_residuals <- residuals / sd(residuals)\n",
        "binary_residuals <- ifelse(std_residuals > 0, 1, 0)\n",
        "runs_test_result <- runs.test(factor(binary_residuals))\n",
        "print(runs_test_result)\n",
        "par(bg = \"white\")\n",
        "hist(std_residuals, main=\"Histogram of Standardized Residuals\", col=\"lightblue\")\n",
        "qqnorm(std_residuals)\n",
        "qqline(std_residuals, col=\"red\")\n",
        "\n",
        "std_residuals <- as.numeric(std_residuals)\n",
        "shapiro.test(std_residuals)\n",
        "\n",
        "par(bg = \"white\")\n",
        "plot(time(closing_price), std_residuals, type=\"p\",\n",
        "     main=\"Standardized Residuals vs Time\",\n",
        "     xlab=\"Time\", ylab=\"Residuals\", col=\"blue\")\n",
        "abline(h=0, col=\"red\")\n",
        "\n",
        "par(bg = \"white\")\n",
        "acf(std_residuals, main=\"ACF of Standardized Residuals\")\n",
        "\n",
        "par(bg = \"white\")\n",
        "plot(resid(model_linear), main=\"Residuals of Linear Model\")\n",
        "abline(h=0, col=\"red\")\n"
      ]
    },
    {
      "cell_type": "markdown",
      "metadata": {
        "id": "WP-VGR9z_Lll"
      },
      "source": [
        ">>Residuals Diagnostics:\n",
        "\n",
        "We can see that a simple linear model might not be appropriate for this data.\n",
        "\n",
        "There is a wave-shaped curvature in the residuals, which may indicate a higher-order polynomial trend. This deviation from linearity is clearly evident in the residual plots as they still indicate some uncaptured patterns.Also The residual plot shows a clear upward and downward pattern rather than fluctuating randomly around zero, indicating that the residuals do not have a zero mean. The normality assumption is somewhat ambiguous. The histogram and QQ plot suggest deviations from a perfectly normal distribution, but the Shapiro-Wilk test does not provide significant evidence against normality (p = 0.2484). Since the p-value is greater than 0.05, we fail to reject the null hypothesis of normality, meaning the residuals appear normal based on this statistical test, despite some visual deviations . Additionally, the ACF and Runs test both give strong evidence that the data is correlated and that there are some uncovered patterns. The Runs test results show  a p-value of 4.533e-08<0.05, indicating strong evidence of a non-random pattern in the residuals.\n",
        "\n",
        "Therefore, we can conclude that most assumptions for the simple linear model are violated.\n"
      ]
    },
    {
      "cell_type": "markdown",
      "metadata": {
        "id": "Bajlj9U7iI82"
      },
      "source": [
        "- Since the linear model did not fit the data well we will investigate more using higher order regression models"
      ]
    },
    {
      "cell_type": "markdown",
      "metadata": {
        "id": "b7oaWZp__Lll"
      },
      "source": [
        ">>2- Quadratic and Cubic Models"
      ]
    },
    {
      "cell_type": "code",
      "execution_count": null,
      "metadata": {
        "id": "EGAkzhFo_Llm",
        "outputId": "e02fc570-3b55-4c33-bb48-ebdcf87bae28",
        "vscode": {
          "languageId": "r"
        }
      },
      "outputs": [
        {
          "data": {
            "text/plain": [
              "\n",
              "Call:\n",
              "lm(formula = closing_price_numeric ~ poly(time_index, 2, raw = TRUE))\n",
              "\n",
              "Residuals:\n",
              "     Min       1Q   Median       3Q      Max \n",
              "-21.6748  -6.3942   0.8747   7.1634  13.9856 \n",
              "\n",
              "Coefficients:\n",
              "                                  Estimate Std. Error t value Pr(>|t|)    \n",
              "(Intercept)                      1.164e+02  3.525e+00  33.029  < 2e-16 ***\n",
              "poly(time_index, 2, raw = TRUE)1 1.488e+00  2.667e-01   5.579 6.95e-07 ***\n",
              "poly(time_index, 2, raw = TRUE)2 3.714e-03  4.237e-03   0.877    0.384    \n",
              "---\n",
              "Signif. codes:  0 '***' 0.001 '**' 0.01 '*' 0.05 '.' 0.1 ' ' 1\n",
              "\n",
              "Residual standard error: 8.8 on 57 degrees of freedom\n",
              "Multiple R-squared:  0.923,\tAdjusted R-squared:  0.9203 \n",
              "F-statistic: 341.8 on 2 and 57 DF,  p-value: < 2.2e-16\n"
            ]
          },
          "metadata": {},
          "output_type": "display_data"
        },
        {
          "data": {
            "text/plain": [
              "\n",
              "Call:\n",
              "lm(formula = closing_price_numeric ~ poly(time_index, 3, raw = TRUE))\n",
              "\n",
              "Residuals:\n",
              "     Min       1Q   Median       3Q      Max \n",
              "-14.0036  -2.7106   0.8037   2.4601   9.5094 \n",
              "\n",
              "Coefficients:\n",
              "                                   Estimate Std. Error t value Pr(>|t|)    \n",
              "(Intercept)                       1.377e+02  2.590e+00  53.170  < 2e-16 ***\n",
              "poly(time_index, 3, raw = TRUE)1 -2.531e+00  3.647e-01  -6.942 4.32e-09 ***\n",
              "poly(time_index, 3, raw = TRUE)2  1.671e-01  1.383e-02  12.082  < 2e-16 ***\n",
              "poly(time_index, 3, raw = TRUE)3 -1.785e-03  1.491e-04 -11.975  < 2e-16 ***\n",
              "---\n",
              "Signif. codes:  0 '***' 0.001 '**' 0.01 '*' 0.05 '.' 0.1 ' ' 1\n",
              "\n",
              "Residual standard error: 4.705 on 56 degrees of freedom\n",
              "Multiple R-squared:  0.9784,\tAdjusted R-squared:  0.9772 \n",
              "F-statistic:   845 on 3 and 56 DF,  p-value: < 2.2e-16\n"
            ]
          },
          "metadata": {},
          "output_type": "display_data"
        }
      ],
      "source": [
        "\n",
        "closing_price_numeric <- as.numeric(coredata(closing_price))\n",
        "time_index <- seq_along(closing_price_numeric)\n",
        "\n",
        "model_quad <- lm(closing_price_numeric ~ poly(time_index, 2, raw = TRUE))\n",
        "summary(model_quad)\n",
        "\n",
        "\n",
        "model_cubic <- lm(closing_price_numeric ~ poly(time_index, 3, raw = TRUE))\n",
        "summary(model_cubic)\n"
      ]
    },
    {
      "cell_type": "markdown",
      "metadata": {
        "id": "p9H9Zdco_Llm"
      },
      "source": [
        ">>Quadratic Model Fitting Interpretation:\n",
        "\n",
        "\n",
        "𝑌=116.4+1.488×𝑋+0.003714×𝑋2\n",
        "\n",
        "\n",
        "\n",
        "\n",
        "Quadratic term (0.003714) accounts for the curvature in the relationship between time and closing price, which is very small with a p-value 0.384 which is not statistically significant. This suggests that the quadratic model might not be necessary as it does not add any significant value compared to the linear model .Its contribution to the adjusted R-squared is just 0.9203, meaning it captures only 0.003 more variance than the linear model, making it largely unnecessary.\n"
      ]
    },
    {
      "cell_type": "markdown",
      "metadata": {
        "id": "_22A9e79_Llm"
      },
      "source": [
        ">>Cubic Model Fitting Interpretation:\n",
        "𝑌=137.7−2.531×𝑋+0.1671×𝑋2−0.001785×𝑋3\n",
        "\n",
        "All coefficients (intercept, linear term, quadratic term, and cubic term) are statistically significant with p-values < 0.001 ,also a bigger R_squared value of 0.9784  meaning that 97.84% of the variance in the closing price is explained by the cubic model, showing a very strong fit.\n",
        "\n"
      ]
    },
    {
      "cell_type": "markdown",
      "metadata": {
        "id": "BLWhnNbhiI82"
      },
      "source": [
        "- Now we look for the cubic and quadratic models residuals diagonostics"
      ]
    },
    {
      "cell_type": "code",
      "execution_count": null,
      "metadata": {
        "id": "JYyjVV_x_Llm",
        "outputId": "c54a9f51-f660-42d2-d761-a1fe6a089fee",
        "vscode": {
          "languageId": "r"
        }
      },
      "outputs": [
        {
          "name": "stdout",
          "output_type": "stream",
          "text": [
            "\n",
            "\tShapiro-Wilk normality test\n",
            "\n",
            "data:  resid(model_quad)\n",
            "W = 0.96736, p-value = 0.1082\n",
            "\n",
            "\n",
            "\tShapiro-Wilk normality test\n",
            "\n",
            "data:  resid(model_cubic)\n",
            "W = 0.95561, p-value = 0.02881\n",
            "\n",
            "\n",
            "\tRuns Test\n",
            "\n",
            "data:  factor(ifelse(std_residuals_quad > 0, 1, 0))\n",
            "Standard Normal = -4.9448, p-value = 7.622e-07\n",
            "alternative hypothesis: two.sided\n",
            "\n",
            "\n",
            "\tRuns Test\n",
            "\n",
            "data:  factor(ifelse(std_residuals_cubic > 0, 1, 0))\n",
            "Standard Normal = -1.1166, p-value = 0.2642\n",
            "alternative hypothesis: two.sided\n",
            "\n"
          ]
        },
        {
          "data": {
            "image/png": "[encoded data removed]",
            "text/plain": [
              "Plot with title \"ACF of Cubic Model\""
            ]
          },
          "metadata": {
            "image/png": {
              "height": 420,
              "width": 420
            }
          },
          "output_type": "display_data"
        },
        {
          "data": {
            "image/png": "[encoded data removed]",
            "text/plain": [
              "Plot with title \"Histogram of Cubic Model Residuals\""
            ]
          },
          "metadata": {
            "image/png": {
              "height": 420,
              "width": 420
            }
          },
          "output_type": "display_data"
        }
      ],
      "source": [
        "\n",
        "library(tseries)\n",
        "\n",
        "\n",
        "std_residuals_quad <- resid(model_quad) / sd(resid(model_quad))\n",
        "std_residuals_cubic <- resid(model_cubic) / sd(resid(model_cubic))\n",
        "\n",
        "\n",
        "par(bg = \"white\")\n",
        "par(mfrow = c(3, 2))  # Adjust for 3 rows and 2 columns\n",
        "\n",
        "\n",
        "plot(resid(model_quad), main = \"Residuals of Quadratic Model\", ylab = \"Residuals\", xlab = \"Index\")\n",
        "acf(resid(model_quad), main = \"ACF of Quadratic Model\")\n",
        "\n",
        "\n",
        "qqnorm(resid(model_quad), main = \"Q-Q Plot of Quadratic Model Residuals\")\n",
        "qqline(resid(model_quad), col = \"red\")\n",
        "hist(resid(model_quad), main = \"Histogram of Quadratic Model Residuals\", xlab = \"Residuals\", col = \"lightblue\", border = \"black\")\n",
        "\n",
        "\n",
        "plot(resid(model_cubic), main = \"Residuals of Cubic Model\", ylab = \"Residuals\", xlab = \"Index\")\n",
        "acf(resid(model_cubic), main = \"ACF of Cubic Model\")\n",
        "\n",
        "\n",
        "qqnorm(resid(model_cubic), main = \"Q-Q Plot of Cubic Model Residuals\")\n",
        "qqline(resid(model_cubic), col = \"red\")\n",
        "hist(resid(model_cubic), main = \"Histogram of Cubic Model Residuals\", xlab = \"Residuals\", col = \"lightblue\", border = \"black\")\n",
        "\n",
        "\n",
        "shapiro_quad <- shapiro.test(resid(model_quad))\n",
        "shapiro_cubic <- shapiro.test(resid(model_cubic))\n",
        "\n",
        "\n",
        "runs_quad <- runs.test(factor(ifelse(std_residuals_quad > 0, 1, 0)))\n",
        "runs_cubic <- runs.test(factor(ifelse(std_residuals_cubic > 0, 1, 0)))\n",
        "\n",
        "print(shapiro_quad)\n",
        "print(shapiro_cubic)\n",
        "print(runs_quad)\n",
        "print(runs_cubic)\n"
      ]
    },
    {
      "cell_type": "markdown",
      "metadata": {
        "id": "yFX-2Phq_Llm"
      },
      "source": [
        ">>Residuals Diagnostics:\n",
        "\n",
        "\n",
        "We can clearly see that The quadratic model has similar ACF and residual plots to the linear model, with residuals still showing a wave-like pattern. The ACF suggests that residuals may still exhibit correlation, indicating that the quadratic model has not fully captured the underlying pattern. Although the Shapiro-Wilk test does not reject normality (p = 0.1082), the histogram and QQ plot indicate deviations from normality, as the residuals do not perfectly align with the theoretical quantile line. This suggests that the residuals may not be perfectly Gaussian. Additionally, the runs test strongly rejects the hypothesis of randomness (p-value = 7.622e-07 < 0.05), indicating that the residuals still exhibit structure. This means that not all assumptions of the quadratic model are validated.\n",
        "\n",
        "In contrast, the cubic model shows more randomized residuals, suggesting a better fit. The runs test supports this conclusion, as the p-value (0.2642 > 0.05) fails to reject randomness. However, for normality, the Shapiro-Wilk test rejects the null hypothesis (p-value = 0.02881 < 0.05), and the QQ plot confirms deviations from symmetry, particularly in the middle. Despite this, the histogram suggests a distribution that is more normal-like compared to the quadratic model. This indicates that while the residuals are not perfectly normal, the cubic model provides a better approximation. However, we still cannot conclude that the residuals of the cubic model are white noise.\n",
        "\n",
        "\n",
        "\n",
        "\n"
      ]
    },
    {
      "cell_type": "code",
      "execution_count": null,
      "metadata": {
        "id": "KGaja3YX_Lln",
        "outputId": "c30c3120-89f0-43f9-9952-bd4f296c2064",
        "vscode": {
          "languageId": "r"
        }
      },
      "outputs": [
        {
          "data": {
            "text/html": [
              "<table class=\"dataframe\">\n",
              "<caption>A data.frame: 3 × 2</caption>\n",
              "<thead>\n",
              "\t<tr><th></th><th scope=col>df</th><th scope=col>AIC</th></tr>\n",
              "\t<tr><th></th><th scope=col>&lt;dbl&gt;</th><th scope=col>&lt;dbl&gt;</th></tr>\n",
              "</thead>\n",
              "<tbody>\n",
              "\t<tr><th scope=row>model_linear</th><td>3</td><td>434.9746</td></tr>\n",
              "\t<tr><th scope=row>model_quad</th><td>4</td><td>436.1712</td></tr>\n",
              "\t<tr><th scope=row>model_cubic</th><td>5</td><td>361.9738</td></tr>\n",
              "</tbody>\n",
              "</table>\n"
            ],
            "text/latex": [
              "A data.frame: 3 × 2\n",
              "\\begin{tabular}{r|ll}\n",
              "  & df & AIC\\\\\n",
              "  & <dbl> & <dbl>\\\\\n",
              "\\hline\n",
              "\tmodel\\_linear & 3 & 434.9746\\\\\n",
              "\tmodel\\_quad & 4 & 436.1712\\\\\n",
              "\tmodel\\_cubic & 5 & 361.9738\\\\\n",
              "\\end{tabular}\n"
            ],
            "text/markdown": [
              "\n",
              "A data.frame: 3 × 2\n",
              "\n",
              "| <!--/--> | df &lt;dbl&gt; | AIC &lt;dbl&gt; |\n",
              "|---|---|---|\n",
              "| model_linear | 3 | 434.9746 |\n",
              "| model_quad | 4 | 436.1712 |\n",
              "| model_cubic | 5 | 361.9738 |\n",
              "\n"
            ],
            "text/plain": [
              "             df AIC     \n",
              "model_linear 3  434.9746\n",
              "model_quad   4  436.1712\n",
              "model_cubic  5  361.9738"
            ]
          },
          "metadata": {},
          "output_type": "display_data"
        },
        {
          "data": {
            "text/html": [
              "<table class=\"dataframe\">\n",
              "<caption>A data.frame: 3 × 2</caption>\n",
              "<thead>\n",
              "\t<tr><th></th><th scope=col>df</th><th scope=col>BIC</th></tr>\n",
              "\t<tr><th></th><th scope=col>&lt;dbl&gt;</th><th scope=col>&lt;dbl&gt;</th></tr>\n",
              "</thead>\n",
              "<tbody>\n",
              "\t<tr><th scope=row>model_linear</th><td>3</td><td>441.2576</td></tr>\n",
              "\t<tr><th scope=row>model_quad</th><td>4</td><td>444.5486</td></tr>\n",
              "\t<tr><th scope=row>model_cubic</th><td>5</td><td>372.4455</td></tr>\n",
              "</tbody>\n",
              "</table>\n"
            ],
            "text/latex": [
              "A data.frame: 3 × 2\n",
              "\\begin{tabular}{r|ll}\n",
              "  & df & BIC\\\\\n",
              "  & <dbl> & <dbl>\\\\\n",
              "\\hline\n",
              "\tmodel\\_linear & 3 & 441.2576\\\\\n",
              "\tmodel\\_quad & 4 & 444.5486\\\\\n",
              "\tmodel\\_cubic & 5 & 372.4455\\\\\n",
              "\\end{tabular}\n"
            ],
            "text/markdown": [
              "\n",
              "A data.frame: 3 × 2\n",
              "\n",
              "| <!--/--> | df &lt;dbl&gt; | BIC &lt;dbl&gt; |\n",
              "|---|---|---|\n",
              "| model_linear | 3 | 441.2576 |\n",
              "| model_quad | 4 | 444.5486 |\n",
              "| model_cubic | 5 | 372.4455 |\n",
              "\n"
            ],
            "text/plain": [
              "             df BIC     \n",
              "model_linear 3  441.2576\n",
              "model_quad   4  444.5486\n",
              "model_cubic  5  372.4455"
            ]
          },
          "metadata": {},
          "output_type": "display_data"
        }
      ],
      "source": [
        "\n",
        "AIC(model_linear, model_quad, model_cubic)\n",
        "BIC(model_linear, model_quad, model_cubic)\n"
      ]
    },
    {
      "cell_type": "markdown",
      "metadata": {
        "id": "oa3qOqRUiI83"
      },
      "source": [
        "To further compare these three models, we calculated their BIC and AIC, which confirm that the cubic model is the best fit for our data, capturing its strong trend. This aligns with the fact that the S&P 500 often exhibits complex movements beyond simple linear trends, influenced by economic cycles, volatility, and market corrections."
      ]
    },
    {
      "cell_type": "markdown",
      "metadata": {
        "id": "6D_9qhJZ_Lln"
      },
      "source": [
        "***Conclusion :***\n",
        "From the analysis, we can clearly identify a strong trend in the data, which is confirmed by the cubic model. However, the cubic model alone is insufficient to capture all meaningful patterns in the data. The violation of the normality assumption indicates that there are still underlying patterns that the model has not fully accounted for.\n",
        "\n",
        "As the residuals of the cubic model exhibit deviations from normality, we need to address this by applying differencing. The next step involves checking the stationarity of the residuals. If the residuals of the cubic model are stationary with a zero mean, we can apply differencing up to d=3 to better uncover the hidden patterns behind the observed trend."
      ]
    },
    {
      "cell_type": "markdown",
      "metadata": {
        "id": "Rj5IUeWViI83"
      },
      "source": [
        "> Checking the zero-mean stationarity assumption for the cubic model residuals."
      ]
    },
    {
      "cell_type": "code",
      "execution_count": null,
      "metadata": {
        "id": "-Z9UHGpt_Lln",
        "outputId": "4fed7a13-54fa-44b2-816b-14b099be363e",
        "vscode": {
          "languageId": "r"
        }
      },
      "outputs": [
        {
          "name": "stdout",
          "output_type": "stream",
          "text": [
            "Mean of the cubic model residuals: 2.294822e-16 \n"
          ]
        },
        {
          "name": "stderr",
          "output_type": "stream",
          "text": [
            "Warning message in adf.test(residuals_cubic):\n",
            "\"p-value smaller than printed p-value\"\n"
          ]
        },
        {
          "name": "stdout",
          "output_type": "stream",
          "text": [
            "ADF Test Result for Cubic Model:\n",
            "\n",
            "\tAugmented Dickey-Fuller Test\n",
            "\n",
            "data:  residuals_cubic\n",
            "Dickey-Fuller = -5.0917, Lag order = 3, p-value = 0.01\n",
            "alternative hypothesis: stationary\n",
            "\n",
            "The residuals have a mean close to zero.\n"
          ]
        }
      ],
      "source": [
        "\n",
        "residuals_cubic <- residuals(model_cubic)\n",
        "\n",
        "\n",
        "mean_residuals_cubic <- mean(residuals_cubic)\n",
        "cat(\"Mean of the cubic model residuals:\", mean_residuals_cubic, \"\\n\")\n",
        "\n",
        "\n",
        "adf_test_result_cubic <- adf.test(residuals_cubic)\n",
        "cat(\"ADF Test Result for Cubic Model:\\n\")\n",
        "print(adf_test_result_cubic)\n",
        "\n",
        "\n",
        "if (abs(mean_residuals_cubic) < 0.05) {\n",
        "  cat(\"The residuals have a mean close to zero.\\n\")\n",
        "} else {\n",
        "  cat(\"The residuals do not have a mean close to zero.\\n\")\n",
        "}\n"
      ]
    },
    {
      "cell_type": "markdown",
      "metadata": {
        "id": "wOc61JQD_Lln"
      },
      "source": [
        "The ADF test confirms that the residuals of the cubic model are stationary, with a mean close to zero (2.294822e-16). Based on this result, we proceed with differencing to ensure stationarity before further modeling.\n",
        "\n",
        "\n",
        "Note: Fitting the cubic model resulted in stationary residuals, which will be extracted via differencing to apply AR, MA, and ARMA models, as they require stationary data.\n",
        "\n"
      ]
    },
    {
      "cell_type": "markdown",
      "metadata": {
        "id": "lLdJQtSWiI84"
      },
      "source": [
        ">>3- Data Differencing :"
      ]
    },
    {
      "cell_type": "code",
      "execution_count": null,
      "metadata": {
        "id": "iSYvVvog_Lln",
        "vscode": {
          "languageId": "r"
        },
        "outputId": "49d8ec44-4f06-40c6-85a4-8def8a5147ce"
      },
      "outputs": [
        {
          "name": "stderr",
          "output_type": "stream",
          "text": [
            "Warning message:\n",
            "\"package 'forecast' was built under R version 4.4.3\"\n",
            "Registered S3 methods overwritten by 'forecast':\n",
            "  method       from\n",
            "  fitted.Arima TSA \n",
            "  plot.Arima   TSA \n",
            "\n"
          ]
        }
      ],
      "source": [
        "library(forecast)"
      ]
    },
    {
      "cell_type": "markdown",
      "metadata": {
        "id": "QPd-doOC_Lln"
      },
      "source": [
        "Since we achieved stationarity by fitting a cubic model, we applied third-order differencing, indicating a strong trend that required multiple differencing steps to eliminate.\n",
        "\n",
        "***Important NOTE***: A single differencing was insufficient to eliminate the trend, but third-order differencing led to an overfitted model. Therefore, the process was adjusted to use d=2 to achieve stationarity while avoiding overfitting."
      ]
    },
    {
      "cell_type": "code",
      "execution_count": null,
      "metadata": {
        "id": "aqV0bKWe_Lln",
        "outputId": "d846d03e-19aa-491c-9ced-a5cd92ca140c",
        "vscode": {
          "languageId": "r"
        }
      },
      "outputs": [
        {
          "name": "stderr",
          "output_type": "stream",
          "text": [
            "Warning message in adf.test(diff_closing_price):\n",
            "\"p-value smaller than printed p-value\"\n"
          ]
        },
        {
          "data": {
            "text/plain": [
              "\n",
              "\tAugmented Dickey-Fuller Test\n",
              "\n",
              "data:  diff_closing_price\n",
              "Dickey-Fuller = -6.2156, Lag order = 3, p-value = 0.01\n",
              "alternative hypothesis: stationary\n"
            ]
          },
          "metadata": {},
          "output_type": "display_data"
        },
        {
          "data": {
            "image/png": "[encoded data removed]",
            "text/plain": [
              "Plot with title \"PACF of Differenced Data\""
            ]
          },
          "metadata": {
            "image/png": {
              "height": 420,
              "width": 420
            }
          },
          "output_type": "display_data"
        }
      ],
      "source": [
        "\n",
        "diff_closing_price <- diff(closing_price, differences = 2)\n",
        "diff_closing_price <- na.omit(diff_closing_price)\n",
        "\n",
        "\n",
        "adf.test(diff_closing_price)\n",
        "\n",
        "\n",
        "par(bg = \"white\")\n",
        "par(mfrow = c(1, 2))\n",
        "\n",
        "\n",
        "acf_result <- acf(diff_closing_price, main = \"ACF of Differenced Data\", na.action = na.pass, lag.max = 10)\n",
        "axis(1, at = 1:10, labels = 1:10)\n",
        "\n",
        "pacf_result <- pacf(diff_closing_price, main = \"PACF of Differenced Data\", na.action = na.pass, lag.max = 10)\n",
        "\n",
        "\n",
        "axis(1, at = 1:10, labels = 1:10)\n",
        "\n",
        "par(mfrow = c(1, 1))\n"
      ]
    },
    {
      "cell_type": "markdown",
      "metadata": {
        "id": "DHqsUA-J_Llo"
      },
      "source": [
        "We observe that second-order differencing effectively removed the trend, resulting in a stationary series with a p-value of 0.01 < 0.05 in the ADF test.\n",
        "\n",
        "\n",
        "Furthermore From the differenced sample acf and pacf we remark that:\n",
        "\n",
        "ACF: A strong spike in lag 1 then a sharp cutoff suggests an MA(1) process .\n",
        "\n",
        "PACF : A decay in the pacf with a cutoff in the 2 strike may also suggest a AR(2) beahvior .\n",
        "\n",
        "Remark: Small spikes outside the confidence interval appear in the ACF at lag 7 and in the PACF at lag 7.These values were considered before, but they resulted an overly complex models with poor performance. Therefore, they are likely due to outliers (e.g., a market crash or a sudden price jump) and will be ignored in the analysis. (The models including these spikes were tested but are not included here due to poor results and to maintain clarity and conciseness.)\n",
        "\n",
        "Based on the ACF and PACF patterns, we propose the following candidate models:\n",
        "\n",
        "- ARIMA(0,2,1)\n",
        "\n",
        "- ARIMA(2,2,0)\n",
        "\n",
        "- ARIMA(2,2,1)\n",
        "\n",
        "\n",
        "This allows as to compare different models while maintaning parsimony.\n",
        "\n",
        "\n"
      ]
    },
    {
      "cell_type": "markdown",
      "metadata": {
        "id": "pZ6-bi3A_Llo"
      },
      "source": [
        "We will also explore other methods, such as ARMA subsets, to expand the range of candidate models."
      ]
    },
    {
      "cell_type": "code",
      "execution_count": null,
      "metadata": {
        "id": "GuMeFcL2_Llo",
        "outputId": "fad95046-469e-4ebc-a643-aaad7a1370d3",
        "vscode": {
          "languageId": "r"
        }
      },
      "outputs": [
        {
          "data": {
            "image/png": "[encoded data removed]",
            "text/plain": [
              "plot without title"
            ]
          },
          "metadata": {
            "image/png": {
              "height": 420,
              "width": 420
            }
          },
          "output_type": "display_data"
        }
      ],
      "source": [
        "library(TSA)\n",
        "\n",
        "par(bg = \"white\")\n",
        "plot(armasubsets(y = diff_closing_price, nar = 5, nma = 5))\n"
      ]
    },
    {
      "cell_type": "markdown",
      "metadata": {
        "id": "1qqCFxAOiI85"
      },
      "source": [
        "Since there are no significant spikes at large lags in the PACF, the maximum order for AR and MA terms was limited to 5. Furthermore, stock prices generally depend on the last 1 to 2 months, making a value of 5 sufficient to capture dependencies while avoiding overfitting."
      ]
    },
    {
      "cell_type": "markdown",
      "metadata": {
        "id": "l650uCk4_Llo"
      },
      "source": [
        "From the ARIMA subset selection chart, we select the models with the lowest BIC (-24), which are ARIMA(1,2,2) and ARIMA(2,2,2). The intercept is ignored, as it becomes null when differencing up to the second order."
      ]
    },
    {
      "cell_type": "markdown",
      "metadata": {
        "id": "ToTbhFyJ_Llo"
      },
      "source": [
        "We observe that the models suggested by the ARIMA subset selection align with those derived from the ACF and PACF analysis, with the only difference being a higher MA order (2).\n",
        "\n",
        "The final set of candidate models includes:\n",
        "\n",
        "- ARIMA(1,2,2)\n",
        "\n",
        "- ARIMA(2,2,2)\n",
        "\n",
        "- ARIMA(0,2,1)\n",
        "\n",
        "- ARIMA(2,2,0)\n",
        "\n",
        "- ARIMA(2,2,1)"
      ]
    },
    {
      "cell_type": "markdown",
      "metadata": {
        "id": "hzhQiGAF_Llo"
      },
      "source": [
        "# 3- Fitting and Diagnostics"
      ]
    },
    {
      "cell_type": "markdown",
      "metadata": {
        "id": "fqEFZuxw_Llo"
      },
      "source": [
        ">>In this section, we will fit our candidate models by estimating their parameters. We will then compare them using criteria such as BIC and AIC, followed by residual diagnostics to determine the best-fitting model."
      ]
    },
    {
      "cell_type": "markdown",
      "metadata": {
        "id": "-wX74FCtiI85"
      },
      "source": [
        "**a-Parameters Estimation:**"
      ]
    },
    {
      "cell_type": "code",
      "execution_count": null,
      "metadata": {
        "id": "VGRtSX0v_Llp",
        "outputId": "d7697d9c-9e0a-4585-e0d4-b7a5fbe950bd",
        "vscode": {
          "languageId": "r"
        }
      },
      "outputs": [
        {
          "name": "stderr",
          "output_type": "stream",
          "text": [
            "Warning message:\n",
            "\"package 'forecast' is in use and will not be installed\"\n"
          ]
        }
      ],
      "source": [
        "install.packages(\"forecast\")\n"
      ]
    },
    {
      "cell_type": "markdown",
      "metadata": {
        "id": "vlllfmtViI86"
      },
      "source": [
        "Since most of our candidate models contain MA components, we will rely on Maximum Likelihood Estimation (MLE) for parameter estimation, as it is the most widely used and reliable method. The Method of Moments (MOM) is avoided because it is generally unsuitable for MA models. Additionally, we will not use Conditional Least Squares (CLS), as it is primarily used for AR models, and our focus is on models that include MA components. Therefore, MLE will be exclusively used for parameter estimation."
      ]
    },
    {
      "cell_type": "code",
      "execution_count": null,
      "metadata": {
        "id": "6aW_rQu6_Llp",
        "vscode": {
          "languageId": "r"
        }
      },
      "outputs": [],
      "source": [
        "# Define candidate models with MLE (default)\n",
        "candidates_mle <- list(\n",
        "  \"ARIMA(1,2,2) MLE\" = arima(closing_price, order = c(1, 2, 2), method = \"ML\"),\n",
        "  \"ARIMA(2,2,2) MLE\" = arima(closing_price, order = c(2, 2, 2), method = \"ML\"),\n",
        "  \"ARIMA(0,2,1) MLE\" = arima(closing_price, order = c(0, 2, 1), method = \"ML\"),\n",
        "  \"ARIMA(2,2,0) MLE\" = arima(closing_price, order = c(2, 2, 0), method = \"ML\"),\n",
        "  \"ARIMA(2,2,1) MLE\" = arima(closing_price, order = c(2, 2, 1), method = \"ML\")\n",
        ")\n",
        "\n"
      ]
    },
    {
      "cell_type": "markdown",
      "metadata": {
        "id": "vRI7OAIT_Llp"
      },
      "source": [
        "Using the arima function with the method set to \"MLE,\" we ensure that parameter estimation is done through Maximum Likelihood Estimation (MLE). In the next section, we will display the estimated parameters for each candidate model."
      ]
    },
    {
      "cell_type": "code",
      "execution_count": null,
      "metadata": {
        "id": "4mumwcMQ_Llp",
        "outputId": "6df32798-3183-49d9-873c-d392835c1218",
        "vscode": {
          "languageId": "r"
        }
      },
      "outputs": [
        {
          "name": "stdout",
          "output_type": "stream",
          "text": [
            "\n",
            "-----------------------------------\n",
            "Model: ARIMA(1,2,2) MLE \n",
            "-----------------------------------\n",
            " Parameter        MLE\n",
            "      phi1  0.1443037\n",
            "    theta1 -1.3817320\n",
            "    theta2  0.3817454\n",
            "\n",
            "-----------------------------------\n",
            "Model: ARIMA(2,2,2) MLE \n",
            "-----------------------------------\n",
            " Parameter        MLE\n",
            "      phi1 -0.6618683\n",
            "      phi2 -0.2594060\n",
            "    theta1 -0.5641012\n",
            "    theta2 -0.4358976\n",
            "\n",
            "-----------------------------------\n",
            "Model: ARIMA(0,2,1) MLE \n",
            "-----------------------------------\n",
            " Parameter        MLE\n",
            "    theta1 -0.9999996\n",
            "\n",
            "-----------------------------------\n",
            "Model: ARIMA(2,2,0) MLE \n",
            "-----------------------------------\n",
            " Parameter        MLE\n",
            "      phi1 -0.8281263\n",
            "      phi2 -0.5303446\n",
            "\n",
            "-----------------------------------\n",
            "Model: ARIMA(2,2,1) MLE \n",
            "-----------------------------------\n",
            " Parameter        MLE\n",
            "      phi1 -0.2374220\n",
            "      phi2 -0.1597485\n",
            "    theta1 -0.9999913\n"
          ]
        }
      ],
      "source": [
        "\n",
        "print_arima_mle <- function(candidates_mle) {\n",
        "  models <- names(candidates_mle)\n",
        "\n",
        "  for (model in models) {\n",
        "    cat(\"\\n-----------------------------------\\n\")\n",
        "    cat(\"Model:\", model, \"\\n\")\n",
        "    cat(\"-----------------------------------\\n\")\n",
        "\n",
        "    mle_values <- coef(candidates_mle[[model]])  # Extract estimated parameters\n",
        "\n",
        "\n",
        "    names(mle_values) <- gsub(\"^ar\", \"phi\", names(mle_values))\n",
        "    names(mle_values) <- gsub(\"^ma\", \"theta\", names(mle_values))\n",
        "\n",
        "    # Convert named vector to data frame format\n",
        "    df <- data.frame(\n",
        "      Parameter = names(mle_values),\n",
        "      MLE = mle_values\n",
        "    )\n",
        "\n",
        "    print(df, row.names = FALSE)\n",
        "  }\n",
        "}\n",
        "\n",
        "print_arima_mle(candidates_mle)\n"
      ]
    },
    {
      "cell_type": "markdown",
      "metadata": {
        "id": "JwGAaRDOiI86"
      },
      "source": [
        "After estimating the parameters, we will compare the candidate models using BIC and AIC metrics to identify the best fit."
      ]
    },
    {
      "cell_type": "code",
      "execution_count": null,
      "metadata": {
        "id": "uqCEVFex_Llp",
        "outputId": "55595b7a-61d6-44c3-b86c-2c07acc684aa",
        "vscode": {
          "languageId": "r"
        }
      },
      "outputs": [
        {
          "name": "stdout",
          "output_type": "stream",
          "text": [
            "                            Model      AIC      BIC\n",
            "ARIMA(0,2,1) MLE ARIMA(0,2,1) MLE 371.2764 375.3973\n",
            "ARIMA(2,2,1) MLE ARIMA(2,2,1) MLE 371.4752 379.7170\n",
            "ARIMA(1,2,2) MLE ARIMA(1,2,2) MLE 372.1848 380.4266\n",
            "ARIMA(2,2,2) MLE ARIMA(2,2,2) MLE 372.8123 383.1145\n",
            "ARIMA(2,2,0) MLE ARIMA(2,2,0) MLE 383.4454 389.6268\n"
          ]
        }
      ],
      "source": [
        "# Compute AIC and BIC for each model\n",
        "model_metrics <- data.frame(\n",
        "  Model = names(candidates_mle),\n",
        "  AIC = sapply(candidates_mle, AIC),\n",
        "  BIC = sapply(candidates_mle, BIC)\n",
        ")\n",
        "\n",
        "# Sort by AIC (best model at the top)\n",
        "model_metrics <- model_metrics[order(model_metrics$AIC), ]\n",
        "print(model_metrics)\n"
      ]
    },
    {
      "cell_type": "markdown",
      "metadata": {
        "id": "8p6GoCv6_Llp"
      },
      "source": [
        "The AIC and BIC values are sorted from smallest to largest. We clearly observe that BIC favors simpler models over more complex ones, as the difference between AIC and BIC values increases with model complexity. Furthermore, both AIC and BIC recommend ARIMA(0,2,1) and ARIMA(2,2,1), which were also suggested by the ACF and PACF analysis. This consistency reinforces confidence in our selected candidates. To finalize our model selection, we proceed with residual diagnostics for these two models."
      ]
    },
    {
      "cell_type": "markdown",
      "metadata": {
        "id": "O_sSJmBV_Llq"
      },
      "source": [
        "**b-Residuals Diagonostics:**"
      ]
    },
    {
      "cell_type": "markdown",
      "metadata": {
        "id": "6Z3J_ewliI87"
      },
      "source": [
        "For residual diagnostics, we will use the Ljung-Box test to check whether the residuals exhibit white noise. Additionally, we will perform the Shapiro-Wilk test for normality and the Runs test for autocorrelation. These tests will be supported by visual diagnostics, including histograms, QQ plots, and ACF/PACF plots for both models."
      ]
    },
    {
      "cell_type": "code",
      "execution_count": null,
      "metadata": {
        "id": "92enH4rd_Llq",
        "outputId": "369c10f0-810f-4f48-dc84-1391a36052f7",
        "vscode": {
          "languageId": "r"
        }
      },
      "outputs": [
        {
          "name": "stderr",
          "output_type": "stream",
          "text": [
            "Warning message:\n",
            "\"package 'gridExtra' was built under R version 4.4.3\"\n"
          ]
        },
        {
          "name": "stdout",
          "output_type": "stream",
          "text": [
            "\n",
            "===== Residual Analysis for ARIMA(0,2,1) =====\n",
            "Ljung-Box test p-value: 0.1985586 \n",
            "Runs test p-value: 1 \n",
            "Shapiro-Wilk test p-value: 0.513779 \n"
          ]
        },
        {
          "name": "stderr",
          "output_type": "stream",
          "text": [
            "Warning message:\n",
            "\"\u001b[1m\u001b[22mThe dot-dot notation (`..density..`) was deprecated in ggplot2 3.4.0.\n",
            "\u001b[36mℹ\u001b[39m Please use `after_stat(density)` instead.\"\n",
            "\u001b[1m\u001b[22mDon't know how to automatically pick scale for object of type \u001b[34m<ts>\u001b[39m. Defaulting\n",
            "to continuous.\n",
            "\u001b[1m\u001b[22mDon't know how to automatically pick scale for object of type \u001b[34m<ts>\u001b[39m. Defaulting\n",
            "to continuous.\n",
            "\u001b[1m\u001b[22mDon't know how to automatically pick scale for object of type \u001b[34m<ts>\u001b[39m. Defaulting\n",
            "to continuous.\n"
          ]
        },
        {
          "name": "stdout",
          "output_type": "stream",
          "text": [
            "\n",
            "===== Residual Analysis for ARIMA(2,2,1) =====\n",
            "Ljung-Box test p-value: 0.864666 \n",
            "Runs test p-value: 0.6024849 \n",
            "Shapiro-Wilk test p-value: 0.3342251 \n"
          ]
        },
        {
          "name": "stderr",
          "output_type": "stream",
          "text": [
            "\u001b[1m\u001b[22mDon't know how to automatically pick scale for object of type \u001b[34m<ts>\u001b[39m. Defaulting\n",
            "to continuous.\n",
            "\u001b[1m\u001b[22mDon't know how to automatically pick scale for object of type \u001b[34m<ts>\u001b[39m. Defaulting\n",
            "to continuous.\n",
            "\u001b[1m\u001b[22mDon't know how to automatically pick scale for object of type \u001b[34m<ts>\u001b[39m. Defaulting\n",
            "to continuous.\n"
          ]
        },
        {
          "data": {
            "image/png": "[encoded data removed]",
            "text/plain": [
              "plot without title"
            ]
          },
          "metadata": {
            "image/png": {
              "height": 420,
              "width": 420
            }
          },
          "output_type": "display_data"
        },
        {
          "data": {
            "image/png": "[encoded data removed]",
            "text/plain": [
              "plot without title"
            ]
          },
          "metadata": {
            "image/png": {
              "height": 420,
              "width": 420
            }
          },
          "output_type": "display_data"
        }
      ],
      "source": [
        "library(tseries)\n",
        "library(ggplot2)\n",
        "library(gridExtra)\n",
        "\n",
        "# Define models\n",
        "best_models <- list(\n",
        "  \"ARIMA(0,2,1)\" = arima(closing_price, order = c(0, 2, 1), method = \"ML\"),\n",
        "  \"ARIMA(2,2,1)\" = arima(closing_price, order = c(2, 2, 1),, method = \"ML\")\n",
        ")\n",
        "\n",
        "# Function for residual analysis\n",
        "analyze_residuals <- function(model, name) {\n",
        "  residuals <- residuals(model)\n",
        "\n",
        "  # Ljung-Box test (Autocorrelation)\n",
        "  ljung_test <- Box.test(residuals, lag = 10, type = \"Ljung-Box\")\n",
        "\n",
        "  # Runs test (Randomness) - Convert residuals to binary (above/below median)\n",
        "  binary_residuals <- factor(residuals > median(residuals))\n",
        "  runs_test <- runs.test(binary_residuals)\n",
        "\n",
        "  # Shapiro-Wilk test (Normality)\n",
        "  shapiro_test <- shapiro.test(residuals)\n",
        "\n",
        "  # Create plots\n",
        "  p1 <- ggplot(data.frame(residuals), aes(x = residuals)) +\n",
        "    geom_histogram(aes(y = ..density..), bins = 30, fill = \"blue\", alpha = 0.5) +\n",
        "    geom_density(color = \"red\", size = 1) +\n",
        "    ggtitle(paste(\"Histogram of Residuals -\", name))\n",
        "\n",
        "  p2 <- ggplot(data.frame(residuals), aes(sample = residuals)) +\n",
        "    stat_qq() + stat_qq_line() +\n",
        "    ggtitle(paste(\"QQ Plot of Residuals -\", name))\n",
        "\n",
        "  # ACF and PACF plots\n",
        "  acf_plot <- ggAcf(residuals) + ggtitle(paste(\"ACF of Residuals -\", name))\n",
        "  pacf_plot <- ggPacf(residuals) + ggtitle(paste(\"PACF of Residuals -\", name))\n",
        "\n",
        "  # Print diagnostics\n",
        "  cat(\"\\n===== Residual Analysis for\", name, \"=====\\n\")\n",
        "  cat(\"Ljung-Box test p-value:\", ljung_test$p.value, \"\\n\")\n",
        "  cat(\"Runs test p-value:\", runs_test$p.value, \"\\n\")\n",
        "  cat(\"Shapiro-Wilk test p-value:\", shapiro_test$p.value, \"\\n\")\n",
        "\n",
        "  # Plot all together\n",
        "  grid.arrange(p1, p2, acf_plot, pacf_plot, ncol = 2)\n",
        "}\n",
        "\n",
        "# Perform analysis for both models\n",
        "for (name in names(best_models)) {\n",
        "  analyze_residuals(best_models[[name]], name)\n",
        "}\n"
      ]
    },
    {
      "cell_type": "markdown",
      "metadata": {
        "id": "V8PekP7m_Llq"
      },
      "source": [
        "Both the ARIMA(0,2,1) and ARIMA(2,2,1) models perform well based on residual diagnostics. The Ljung-Box test results show that both models have p-values greater than 0.05, indicating no significant autocorrelation in the residuals. This is further confirmed by the ACF and PACF plots, where all spikes remain within the confidence intervals, verifying that the residuals of both models are uncorrelated and suggesting a good fit.\n",
        "\n",
        "Similarly, the Runs test for randomness reveals high p-values for both models (ARIMA(0,2,1): p = 1, ARIMA(2,2,1): p = 0.6025), strengthening the conclusions drawn from the ACF, PACF, and Ljung-Box tests that the residuals appear random with no meaningful patterns. The Shapiro-Wilk test further supports normality, as both models have p-values greater than 0.05 (ARIMA(0,2,1): p = 0.5138, ARIMA(2,2,1): p = 0.3343), confirming that the residuals are normally distributed. This is also evident from the QQ plots, where the residuals align well with the reference line with minor deviations at the tails, and the histogram, which suggests that the residuals can be considered approximately normal.\n",
        "\n",
        "In summary, both models passed the residual diagnostic tests, indicating that they successfully captured the necessary patterns, resulting in white noise residuals (zero mean, constant variance, uncorrelated, and normally distributed). To select the best model, we will consider the one with the smallest AIC and BIC values while following the principle of parsimony, which favors the simplest model. Based on these criteria, we prefer the ARIMA(0,2,1) model with the parameter θ₁ = -0.9999996."
      ]
    },
    {
      "cell_type": "markdown",
      "metadata": {
        "id": "RvfXgJ2A_Llq"
      },
      "source": [
        "**Conclusion :**\n",
        "\n",
        "The ARIMA(0,2,1) model is suggested as the best fit for this data.\n",
        "\n",
        "Potential Model Deficiencies: While this model performs well based on residual diagnostics, it may be overly simplistic given the nature of financial data, which often exhibits significant fluctuations. The MA(1) component assumes correlation only at lag l = 1, producing constant mean predictions for l > 1. This could result in overly linear forecasts, potentially failing to capture the curvature and volatility inherent in financial time series. As a result, the model may not be ideal for highly volatile datasets."
      ]
    },
    {
      "cell_type": "markdown",
      "metadata": {
        "id": "i4vOGXUD_Llr"
      },
      "source": [
        "# 5-Forecasting:\n",
        "\n",
        "In this section, we assess the ability of our model to predict future data.\n",
        "\n",
        "We evaluate the model on unseen data, specifically 6 months (equivalent to 1% of the training data Size).\n",
        "\n",
        "The model’s performance is measured using plots and statistical tests, including:\n",
        "\n",
        "- Mean Squared Error (MSE)\n",
        "- Mean Absolute Error (MAE)\n",
        "- Root Mean Squared Error (RMSE)\n",
        "- R-squared (R²)\n",
        "\n",
        "\n",
        "By analyzing these metrics alongside visualization tools (such as forecast plots ), we can determine the reliability of our model’s predictions."
      ]
    },
    {
      "cell_type": "markdown",
      "metadata": {
        "id": "p28ljLqAiI88"
      },
      "source": [
        " We will forecast the next six months, display the predicted values, and visualize the results."
      ]
    },
    {
      "cell_type": "code",
      "execution_count": null,
      "metadata": {
        "id": "yaGVawD2_Llr",
        "outputId": "36c512f3-225e-47a2-9b8c-19d97e8b3b7a",
        "vscode": {
          "languageId": "r"
        }
      },
      "outputs": [
        {
          "name": "stdout",
          "output_type": "stream",
          "text": [
            "          Jan      Feb      Mar      Apr      May      Jun\n",
            "2016 205.1444 206.4188 207.6932 208.9676 210.2421 211.5165\n"
          ]
        },
        {
          "data": {
            "image/png": "[encoded data removed]",
            "text/plain": [
              "plot without title"
            ]
          },
          "metadata": {
            "image/png": {
              "height": 420,
              "width": 420
            }
          },
          "output_type": "display_data"
        }
      ],
      "source": [
        "# Predict next 10 months\n",
        "forecast_0_2_1 <- predict(model_0_2_1, n.ahead = 6)\n",
        "\n",
        "\n",
        "# Print predictions\n",
        "print(forecast_0_2_1$pred)\n",
        "\n",
        "par(bg = \"white\")\n",
        "# Plot results\n",
        "ts.plot(closing_price_ts, forecast_0_2_1$pred, col = c(\"black\", \"red\"), lty = c(1,2))\n",
        "legend(\"topleft\", legend = c(\"Actual\", \"Forecast\"), col = c(\"black\", \"red\"), lty = c(1,2))\n"
      ]
    },
    {
      "cell_type": "markdown",
      "metadata": {
        "id": "l8Cut7j0_Llr"
      },
      "source": [
        "As expected, the predicted values for the next six months exhibit a linear pattern due to the simplicity of our model. To assess its performance, the next step is to compare these predictions with the actual values."
      ]
    },
    {
      "cell_type": "code",
      "execution_count": null,
      "metadata": {
        "vscode": {
          "languageId": "r"
        },
        "id": "1rSet6rAiI88",
        "outputId": "d34b89c5-3670-40f0-a199-c23998049452"
      },
      "outputs": [
        {
          "name": "stderr",
          "output_type": "stream",
          "text": [
            "Installing package into 'C:/Users/ayadi/AppData/Local/R/win-library/4.4'\n",
            "(as 'lib' is unspecified)\n",
            "\n",
            "also installing the dependencies 'listenv', 'parallelly', 'future', 'globals', 'shape', 'future.apply', 'progressr', 'SQUAREM', 'diagram', 'lava', 'cli', 'prodlim', 'proxy', 'iterators', 'clock', 'gower', 'hardhat', 'ipred', 'sparsevctrs', 'e1071', 'foreach', 'ModelMetrics', 'plyr', 'pROC', 'recipes', 'reshape2'\n",
            "\n",
            "\n"
          ]
        },
        {
          "name": "stdout",
          "output_type": "stream",
          "text": [
            "package 'listenv' successfully unpacked and MD5 sums checked\n",
            "package 'parallelly' successfully unpacked and MD5 sums checked\n",
            "package 'future' successfully unpacked and MD5 sums checked\n",
            "package 'globals' successfully unpacked and MD5 sums checked\n",
            "package 'shape' successfully unpacked and MD5 sums checked\n",
            "package 'future.apply' successfully unpacked and MD5 sums checked\n",
            "package 'progressr' successfully unpacked and MD5 sums checked\n",
            "package 'SQUAREM' successfully unpacked and MD5 sums checked\n",
            "package 'diagram' successfully unpacked and MD5 sums checked\n",
            "package 'lava' successfully unpacked and MD5 sums checked\n",
            "package 'cli' successfully unpacked and MD5 sums checked\n"
          ]
        },
        {
          "name": "stderr",
          "output_type": "stream",
          "text": [
            "Warning message:\n",
            "\"cannot remove prior installation of package 'cli'\"\n",
            "Warning message in file.copy(savedcopy, lib, recursive = TRUE):\n",
            "\"problem copying C:\\Users\\ayadi\\AppData\\Local\\R\\win-library\\4.4\\00LOCK\\cli\\libs\\x64\\cli.dll to C:\\Users\\ayadi\\AppData\\Local\\R\\win-library\\4.4\\cli\\libs\\x64\\cli.dll: Permission denied\"\n",
            "Warning message:\n",
            "\"restored 'cli'\"\n"
          ]
        },
        {
          "name": "stdout",
          "output_type": "stream",
          "text": [
            "package 'prodlim' successfully unpacked and MD5 sums checked\n",
            "package 'proxy' successfully unpacked and MD5 sums checked\n",
            "package 'iterators' successfully unpacked and MD5 sums checked\n",
            "package 'clock' successfully unpacked and MD5 sums checked\n",
            "package 'gower' successfully unpacked and MD5 sums checked\n",
            "package 'hardhat' successfully unpacked and MD5 sums checked\n",
            "package 'ipred' successfully unpacked and MD5 sums checked\n",
            "package 'sparsevctrs' successfully unpacked and MD5 sums checked\n",
            "package 'e1071' successfully unpacked and MD5 sums checked\n",
            "package 'foreach' successfully unpacked and MD5 sums checked\n",
            "package 'ModelMetrics' successfully unpacked and MD5 sums checked\n",
            "package 'plyr' successfully unpacked and MD5 sums checked\n",
            "package 'pROC' successfully unpacked and MD5 sums checked\n",
            "package 'recipes' successfully unpacked and MD5 sums checked\n",
            "package 'reshape2' successfully unpacked and MD5 sums checked\n",
            "package 'caret' successfully unpacked and MD5 sums checked\n",
            "\n",
            "The downloaded binary packages are in\n",
            "\tC:\\Users\\ayadi\\AppData\\Local\\Temp\\RtmpGWoyBo\\downloaded_packages\n"
          ]
        }
      ],
      "source": [
        "install.packages(\"caret\")\n"
      ]
    },
    {
      "cell_type": "code",
      "execution_count": null,
      "metadata": {
        "id": "4kXwhJRI_Llr",
        "outputId": "1b1444fc-a6a6-42e0-9454-1434420ce0c5",
        "vscode": {
          "languageId": "r"
        }
      },
      "outputs": [
        {
          "data": {
            "text/html": [
              "'SPY'"
            ],
            "text/latex": [
              "'SPY'"
            ],
            "text/markdown": [
              "'SPY'"
            ],
            "text/plain": [
              "[1] \"SPY\""
            ]
          },
          "metadata": {},
          "output_type": "display_data"
        },
        {
          "name": "stdout",
          "output_type": "stream",
          "text": [
            "[1] \"MSE for ARIMA(0,2,1): 51.9759078829775\"\n",
            "[1] \"RMSE for ARIMA(0,2,1): 7.20943186963976\"\n",
            "[1] \"MAE for ARIMA(0,2,1): 5.25544202062945\"\n",
            "[1] \"R-squared (R²) for ARIMA(0,2,1): 0.837577532690893\"\n"
          ]
        }
      ],
      "source": [
        "library(quantmod)\n",
        "library(Metrics)\n",
        "library(caret)\n",
        "\n",
        "# Get actual S&P 500 data for Jan 2016 - June 2016\n",
        "getSymbols(\"SPY\", from = \"2016-01-01\", to = \"2016-06-30\", src = \"yahoo\", periodicity = \"monthly\")\n",
        "real_values <- as.numeric(Cl(SPY))  # Convert closing prices to numeric\n",
        "\n",
        "\n",
        "n_forecast <- length(real_values)\n",
        "\n",
        "\n",
        "forecast_0_2_1 <- predict(model_0_2_1, n.ahead = n_forecast)\n",
        "\n",
        "predicted_values <- forecast_0_2_1$pred\n",
        "forecast_errors <- forecast_0_2_1$se\n",
        "\n",
        "# Compute MSE (Mean Squared Error)\n",
        "mse <- mean((predicted_values - real_values)^2)\n",
        "\n",
        "# Compute RMSE (Root Mean Squared Error)\n",
        "rmse <- sqrt(mse)\n",
        "\n",
        "# Compute MAE (Mean Absolute Error)\n",
        "mae_value <- mae(real_values, predicted_values)\n",
        "\n",
        "# Compute R-squared (R²)\n",
        "r2_value <- R2(predicted_values, real_values)\n",
        "\n",
        "# Print results\n",
        "print(paste(\"MSE for ARIMA(0,2,1):\", mse))\n",
        "print(paste(\"RMSE for ARIMA(0,2,1):\", rmse))\n",
        "print(paste(\"MAE for ARIMA(0,2,1):\", mae_value))\n",
        "print(paste(\"R-squared (R²) for ARIMA(0,2,1):\", r2_value))\n"
      ]
    },
    {
      "cell_type": "markdown",
      "metadata": {
        "id": "3k3otUf3_Llr"
      },
      "source": [
        "\n",
        "\n",
        "The MSE shows that the predictions of our model deviates from the actual values with 51.97 which appears to be relatively high compared to the other metrics, likely because MSE penalizes larger errors more heavily. In contrast, the MAE provides a more balanced measure of error, showing a reasonable value. The R² value of 0.837 suggests that the model explains a significant portion of the variance in the actual data, indicating a good fit. The RMSE is 7.21, which will be further investigated by comparing it to the range of actual values. Additionally, we will plot the differences between real and predicted values to better understand and justify the cause of high MSE ."
      ]
    },
    {
      "cell_type": "markdown",
      "metadata": {
        "id": "F_MpWRWKiI89"
      },
      "source": [
        "Now, we will evaluate whether the RMSE value is acceptable by comparing it to the range of our S&P 500 data, including the testing portion. This will help determine if the error is relatively high or justifiable within this domain-specific case study. If the RMSE is small relative to the data range, the model's predictions can be considered reasonably accurate."
      ]
    },
    {
      "cell_type": "code",
      "execution_count": null,
      "metadata": {
        "id": "4ebTpFJx_Llr",
        "outputId": "a5e41245-efaa-4bb3-eb3b-c6cd7e359d8f",
        "vscode": {
          "languageId": "r"
        }
      },
      "outputs": [
        {
          "data": {
            "text/html": [
              "'SPY'"
            ],
            "text/latex": [
              "'SPY'"
            ],
            "text/markdown": [
              "'SPY'"
            ],
            "text/plain": [
              "[1] \"SPY\""
            ]
          },
          "metadata": {},
          "output_type": "display_data"
        },
        {
          "name": "stdout",
          "output_type": "stream",
          "text": [
            "[1] \"Min price: 113.15\"\n",
            "[1] \"Max price: 211.14\"\n",
            "[1] \"Price range: 97.99\"\n",
            "[1] \"Acceptable RMSE range: 5% to 10% of price range = [4.9, 9.8]\"\n",
            "[1] \"The RMSE is within the acceptable range of 5-10% of the price range, suggesting good model accuracy.\"\n"
          ]
        }
      ],
      "source": [
        "getSymbols(\"SPY\", from = \"2011-01-01\", to = \"2016-06-30\", src = \"yahoo\", periodicity = \"monthly\")\n",
        "closing_prices <- as.numeric(Cl(SPY))\n",
        "\n",
        "# Get min, max, and range from the entire dataset (training + testing)\n",
        "min_price <- min(closing_prices)\n",
        "max_price <- max(closing_prices)\n",
        "price_range <- max_price - min_price\n",
        "\n",
        "# Calculate acceptable RMSE range (5-10% of the price range)\n",
        "acceptable_rmse_lower <- 0.05 * price_range\n",
        "acceptable_rmse_upper <- 0.10 * price_range\n",
        "\n",
        "# Print range information\n",
        "print(paste(\"Min price:\", round(min_price, 2)))\n",
        "print(paste(\"Max price:\", round(max_price, 2)))\n",
        "print(paste(\"Price range:\", round(price_range, 2)))\n",
        "print(paste(\"Acceptable RMSE range: 5% to 10% of price range = [\", round(acceptable_rmse_lower, 2), \", \", round(acceptable_rmse_upper, 2), \"]\", sep=\"\"))\n",
        "\n",
        "# Assuming 'rmse' is calculated elsewhere in the code\n",
        "if (rmse >= acceptable_rmse_lower && rmse <= acceptable_rmse_upper) {\n",
        "  print(\"The RMSE is within the acceptable range of 5-10% of the price range, suggesting good model accuracy.\")\n",
        "} else {\n",
        "  print(\"The RMSE is outside the acceptable range, indicating potential issues with prediction accuracy.\")\n",
        "}\n"
      ]
    },
    {
      "cell_type": "markdown",
      "metadata": {
        "id": "63PnVBkAiI89"
      },
      "source": [
        "- So we have tested the RMSE value based on the data range with 5% to 10% range of error is acceptable as financial time series predictions, especially for assets like the S&P 500, often cannot achieve an RMSE lower than 5% of the real data range due to the unpredictability of the market.\n",
        "\n",
        "As a result, we can accept our RMSE value of ~7, though it is still a little bit high."
      ]
    },
    {
      "cell_type": "markdown",
      "metadata": {
        "id": "HYHRqA1T_Lls"
      },
      "source": [
        "Now to investigate on the high mse value we will plot the predicted values along with the real value"
      ]
    },
    {
      "cell_type": "code",
      "execution_count": null,
      "metadata": {
        "id": "K_SaXDcY_Lls",
        "outputId": "7b3ed203-e5be-492d-c6c4-918a8cb0b8c9",
        "vscode": {
          "languageId": "r"
        }
      },
      "outputs": [
        {
          "data": {
            "image/png": "[encoded data removed]",
            "text/plain": [
              "plot without title"
            ]
          },
          "metadata": {
            "image/png": {
              "height": 420,
              "width": 420
            }
          },
          "output_type": "display_data"
        }
      ],
      "source": [
        "\n",
        "df_forecast <- data.frame(\n",
        "  Date = forecast_dates,\n",
        "  ARIMA_0_2_1 = as.numeric(forecast_0_2_1$pred[1:forecast_length]),\n",
        "  Actual = as.numeric(real_values_trimmed)\n",
        ")\n",
        "\n",
        "\n",
        "ggplot(df_forecast, aes(x = Date)) +\n",
        "  geom_line(aes(y = Actual, color = \"Actual Prices\"), size = 1.2) +\n",
        "  geom_line(aes(y = ARIMA_0_2_1, color = \"ARIMA(0,2,1)\"), linetype = \"dashed\", size = 1.2) +\n",
        "  labs(title = \"S&P 500 Forecast vs Actual Prices (Jan 2016 - June 2016)\",\n",
        "       x = \"Date\",\n",
        "       y = \"Closing Price\") +\n",
        "  scale_color_manual(values = c(\"Actual Prices\" = \"blue\",\n",
        "                                \"ARIMA(0,2,1)\" = \"red\")) +\n",
        "  theme_minimal()\n"
      ]
    },
    {
      "cell_type": "markdown",
      "metadata": {
        "id": "tYbsJms6_Lls"
      },
      "source": [
        ">> The high MSE is mainly due to the model missing sharp changes, especially in February. Since MSE gives more weight to large errors, the big gap between the actual and predicted values for that month caused the high MSE . To improve and better capture these complexities, we will explore higher-order AR models and auto-generated models to make a final decision on our model's performance."
      ]
    },
    {
      "cell_type": "markdown",
      "metadata": {
        "id": "HjMpMMGHiI89"
      },
      "source": [
        "first we are going to find the model suggested by auto arima"
      ]
    },
    {
      "cell_type": "code",
      "execution_count": null,
      "metadata": {
        "vscode": {
          "languageId": "r"
        },
        "id": "Dxoblpx7iI89",
        "outputId": "4e3c04e6-b930-4b26-8c84-da2b3146e2bc"
      },
      "outputs": [
        {
          "data": {
            "text/plain": [
              "Series: closing_price \n",
              "ARIMA(0,1,1) with drift \n",
              "\n",
              "Coefficients:\n",
              "          ma1   drift\n",
              "      -0.2727  1.2863\n",
              "s.e.   0.1324  0.5073\n",
              "\n",
              "sigma^2 = 29.33:  log likelihood = -182.41\n",
              "AIC=370.82   AICc=371.26   BIC=377.06\n",
              "\n",
              "Training set error measures:\n",
              "                     ME     RMSE      MAE         MPE     MAPE      MASE\n",
              "Training set 0.01631199 5.278977 4.179014 -0.08260814 2.580794 0.9079125\n",
              "                   ACF1\n",
              "Training set 0.01598096"
            ]
          },
          "metadata": {},
          "output_type": "display_data"
        }
      ],
      "source": [
        "library(forecast)\n",
        "library(quantmod)\n",
        "\n",
        "auto_arima_model <- auto.arima(closing_price)\n",
        "summary(auto_arima_model)\n",
        "forecast_auto_arima <- forecast(auto_arima_model, h = 6)"
      ]
    },
    {
      "cell_type": "markdown",
      "metadata": {
        "id": "UeeltiLriI8-"
      },
      "source": [
        "The auto arima has suggested random walk means the values of the future  are unpredictable ,next step is to forecast using other models with higher AR component along with their R2 ,MSE ,MAE to verify our choice"
      ]
    },
    {
      "cell_type": "code",
      "execution_count": null,
      "metadata": {
        "id": "mCJS_mFW_Lls",
        "outputId": "4c87c5cf-6aaf-4516-944e-70e9044d2011",
        "vscode": {
          "languageId": "r"
        }
      },
      "outputs": [
        {
          "name": "stdout",
          "output_type": "stream",
          "text": [
            "[1] \"RMSE for ARIMA(0,1,1) : 9.36678033268798\"\n",
            "[1] \"MAE for ARIMA(0,1,1) : 6.52005568618003\"\n",
            "[1] \"R² for ARIMA(0,1,1) : -0.8706\"\n",
            "[1] \"RMSE for ARIMA(2,1,1) : 9.15622373663477\"\n",
            "[1] \"MAE for ARIMA(2,1,1) : 6.40699160714308\"\n",
            "[1] \"R² for ARIMA(2,1,1) : -0.7875\"\n",
            "[1] \"RMSE for ARIMA(2,2,1) : 11.9088690140121\"\n",
            "[1] \"MAE for ARIMA(2,2,1) : 10.8274903354899\"\n",
            "[1] \"R² for ARIMA(2,2,1) : -2.0238\"\n",
            "[1] \"RMSE for ARIMA(2,2,2) : 11.8367231825408\"\n",
            "[1] \"MAE for ARIMA(2,2,2) : 10.7421396018743\"\n",
            "[1] \"R² for ARIMA(2,2,2) : -1.9872\"\n"
          ]
        },
        {
          "data": {
            "image/png": "[encoded data removed]",
            "text/plain": [
              "plot without title"
            ]
          },
          "metadata": {
            "image/png": {
              "height": 420,
              "width": 420
            }
          },
          "output_type": "display_data"
        }
      ],
      "source": [
        "library(forecast)\n",
        "library(ggplot2)\n",
        "\n",
        "\n",
        "arima_0_1_1 <- Arima(closing_prices, order = c(0,1,1))\n",
        "arima_2_1_1 <- Arima(closing_prices, order = c(2,1,1))\n",
        "arima_2_2_1 <- Arima(closing_prices, order = c(2,2,1))\n",
        "arima_2_2_2 <- Arima(closing_prices, order = c(2,2,2))\n",
        "\n",
        "forecast_0_1_1 <- forecast(arima_0_1_1, h = 6)\n",
        "forecast_2_1_1 <- forecast(arima_2_1_1, h = 6)\n",
        "forecast_2_2_1 <- forecast(arima_2_2_1, h = 6)\n",
        "forecast_2_2_2 <- forecast(arima_2_2_2, h = 6)\n",
        "\n",
        "\n",
        "forecast_length <- min(length(forecast_0_1_1$mean), length(real_values))\n",
        "forecast_dates <- index(real_values)[1:forecast_length]\n",
        "real_values_trimmed <- real_values[1:forecast_length]\n",
        "\n",
        "\n",
        "df_forecast <- data.frame(\n",
        "  Date = forecast_dates,\n",
        "  ARIMA_0_1_1 = as.numeric(forecast_0_1_1$mean[1:forecast_length]),\n",
        "  ARIMA_2_1_1 = as.numeric(forecast_2_1_1$mean[1:forecast_length]),\n",
        "  ARIMA_2_2_1 = as.numeric(forecast_2_2_1$mean[1:forecast_length]),\n",
        "  ARIMA_2_2_2 = as.numeric(forecast_2_2_2$mean[1:forecast_length]),\n",
        "  Actual = as.numeric(real_values_trimmed)\n",
        ")\n",
        "\n",
        "# Calculate RMSE, MAE, and R² for each model\n",
        "rmse_values <- c(\n",
        "  sqrt(mean((df_forecast$ARIMA_0_1_1 - df_forecast$Actual)^2)),\n",
        "  sqrt(mean((df_forecast$ARIMA_2_1_1 - df_forecast$Actual)^2)),\n",
        "  sqrt(mean((df_forecast$ARIMA_2_2_1 - df_forecast$Actual)^2)),\n",
        "  sqrt(mean((df_forecast$ARIMA_2_2_2 - df_forecast$Actual)^2))\n",
        ")\n",
        "\n",
        "mae_values <- c(\n",
        "  mean(abs(df_forecast$ARIMA_0_1_1 - df_forecast$Actual)),\n",
        "  mean(abs(df_forecast$ARIMA_2_1_1 - df_forecast$Actual)),\n",
        "  mean(abs(df_forecast$ARIMA_2_2_1 - df_forecast$Actual)),\n",
        "  mean(abs(df_forecast$ARIMA_2_2_2 - df_forecast$Actual))\n",
        ")\n",
        "\n",
        "r_squared_values <- c(\n",
        "  1 - sum((df_forecast$ARIMA_0_1_1 - df_forecast$Actual)^2) / sum((df_forecast$Actual - mean(df_forecast$Actual))^2),\n",
        "  1 - sum((df_forecast$ARIMA_2_1_1 - df_forecast$Actual)^2) / sum((df_forecast$Actual - mean(df_forecast$Actual))^2),\n",
        "  1 - sum((df_forecast$ARIMA_2_2_1 - df_forecast$Actual)^2) / sum((df_forecast$Actual - mean(df_forecast$Actual))^2),\n",
        "  1 - sum((df_forecast$ARIMA_2_2_2 - df_forecast$Actual)^2) / sum((df_forecast$Actual - mean(df_forecast$Actual))^2)\n",
        ")\n",
        "\n",
        "model_names <- c(\"ARIMA(0,1,1)\", \"ARIMA(2,1,1)\", \"ARIMA(2,2,1)\", \"ARIMA(2,2,2)\")\n",
        "\n",
        "# Print RMSE, MAE, and R² values\n",
        "for (i in 1:length(model_names)) {\n",
        "  print(paste(\"RMSE for\", model_names[i], \":\", rmse_values[i]))\n",
        "  print(paste(\"MAE for\", model_names[i], \":\", mae_values[i]))\n",
        "  print(paste(\"R² for\", model_names[i], \":\", round(r_squared_values[i], 4)))\n",
        "}\n",
        "\n",
        "# **Step 2: Plot the Results**\n",
        "ggplot(df_forecast, aes(x = Date)) +\n",
        "  geom_line(aes(y = Actual, color = \"Actual Prices\"), size = 1.2) +\n",
        "  geom_line(aes(y = ARIMA_0_1_1, color = \"ARIMA(0,1,1)\"), linetype = \"dashed\", size = 1.2) +\n",
        "  geom_line(aes(y = ARIMA_2_1_1, color = \"ARIMA(2,1,1)\"), linetype = \"dotted\", size = 1.2) +\n",
        "  geom_line(aes(y = ARIMA_2_2_1, color = \"ARIMA(2,2,1)\"), linetype = \"solid\", size = 1.2) +\n",
        "  geom_line(aes(y = ARIMA_2_2_2, color = \"ARIMA(2,2,2)\"), linetype = \"dotdash\", size = 1.2) +\n",
        "  labs(title = \"S&P 500 Forecast vs Actual Prices (ARIMA Models Comparison)\",\n",
        "       x = \"Date\",\n",
        "       y = \"Closing Price\") +\n",
        "  scale_color_manual(values = c(\n",
        "    \"Actual Prices\" = \"blue\",\n",
        "    \"ARIMA(0,1,1)\" = \"red\",\n",
        "    \"ARIMA(2,1,1)\" = \"green\",\n",
        "    \"ARIMA(2,2,1)\" = \"orange\",\n",
        "    \"ARIMA(2,2,2)\" = \"purple\"\n",
        "  )) +\n",
        "  theme_minimal()\n"
      ]
    },
    {
      "cell_type": "markdown",
      "metadata": {
        "id": "RtYaOwMh_Lls"
      },
      "source": [
        "After testing more complex models, including the one suggested by auto.arima (ARIMA(0,1,1)), we can see that our selected model has the lowest RMSE ,MAE .Also we remark that these model R-squared values are negative indicating  that the model is performing worse than simply using the mean of the actual values to predict the future . Additionally, in the visualization, the other models appear to deviate significantly from the actual values.\n",
        "\n",
        "We can observe that adding AR components and complex models such that ARIMA(2,2,1) and ARIMA(2,2,2) lead to  worse performance , with much more negative R² values (around -2), which indicates they are overfitting or not capturing the patterns in the data at all.\n",
        "\n",
        "- This Results help us to conclude that even though our model seems too simple it is still have good predictions and can be conidered acceptible compared to auto generated and other complex  models."
      ]
    },
    {
      "cell_type": "markdown",
      "metadata": {
        "id": "Z7zOdVZr_Lls"
      },
      "source": [
        "**6-Discussion**"
      ]
    },
    {
      "cell_type": "markdown",
      "metadata": {
        "id": "T3vPJRNY_Llt"
      },
      "source": [
        "\n",
        "> - Data Investigation: We analyzed the dataset to identify key patterns, finding no significant seasonality but a strong cubic trend that explained 97% of the variance. Box-Cox transformation was unnecessary as it our data had constant variance.\n",
        "\n",
        "> - Stationarity Analysis: ACF/PACF plots and the ADF test confirmed non-stationarity. Differencing at d = 2 achieved stationarity, with residuals showing stochastic zero-mean stationarity.\n",
        "\n",
        "> - Model Selection & Estimation: Based on ACF/PACF and ARIMA subset selection, we used MLE for parameter estimation. The ARIMA(0,2,1) model, chosen for its simplicity and best AIC/BIC, performed well with white noise residuals.\n",
        "\n",
        "> - Forecasting & Model Performance: Forecasting S&P 500 proved challenging due to small fluctuations. ARIMA(0,2,1) had the lowest RMSE and a good R-Square value(0.83), indicating the best performance, although alternative AR models were less accurate.\n",
        "\n",
        "> - Limitations:\n",
        ">The nature of data is challenging as unpredictable market events, such as the 2011 crash and debt crises, increased volatility. High-order trends led to overfitting with excessive differencing.\n",
        "\n",
        "> - Alternative Models: Machine learning techniques and GARCH models are better suited for modeling the S&P 500 due to their ability to handle volatility clustering.\n",
        "\n",
        "\n"
      ]
    },
    {
      "cell_type": "markdown",
      "metadata": {
        "id": "MuEOvU71_Llt"
      },
      "source": [
        "# Conclusion:\n",
        "The ARIMA(0,2,1) model provides the best forecasts for the S&P 500 index in our analysis, outperforming more complex models with lower MSE, RMSE, and higher R² values. However, the S&P 500’s volatility and complexity suggest that more advanced models, such as machine learning (Random Forest) or deep learning (LSTM), might better capture its behavior \"Long Short-Term Memory (LSTM) networks can capture long-term dependencies and nonlinear relationships in stock prices, outperforming traditional ARIMA models\" (Zhang et al., 2024, arXiv).\n",
        "\n",
        "In summary, while our ARIMA(0,2,1) model demonstrates acceptable performance within the scope of our analysis, the inherent complexities of financial markets like the S&P 500 may necessitate the exploration of more sophisticated models to fully capture the underlying dynamics."
      ]
    },
    {
      "cell_type": "markdown",
      "metadata": {
        "id": "zovRhYmY_Llt"
      },
      "source": [
        "# Thank You"
      ]
    }
  ],
  "metadata": {
    "colab": {
      "provenance": [],
      "include_colab_link": true
    },
    "kernelspec": {
      "display_name": "R",
      "language": "R",
      "name": "ir"
    },
    "language_info": {
      "codemirror_mode": "r",
      "file_extension": ".r",
      "mimetype": "text/x-r-source",
      "name": "R",
      "pygments_lexer": "r",
      "version": "4.4.2"
    }
  },
  "nbformat": 4,
  "nbformat_minor": 0
}